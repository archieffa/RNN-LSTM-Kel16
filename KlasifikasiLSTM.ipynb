{
  "nbformat": 4,
  "nbformat_minor": 0,
  "metadata": {
    "colab": {
      "provenance": []
    },
    "kernelspec": {
      "name": "python3",
      "display_name": "Python 3"
    },
    "language_info": {
      "name": "python"
    }
  },
  "cells": [
    {
      "cell_type": "code",
      "source": [],
      "metadata": {
        "id": "sAsttdulYjhj"
      },
      "execution_count": null,
      "outputs": []
    },
    {
      "cell_type": "code",
      "source": [],
      "metadata": {
        "id": "NQeCnFh5a6-_"
      },
      "execution_count": null,
      "outputs": []
    },
    {
      "cell_type": "code",
      "source": [
        "# IMPORT LIBRARY\n",
        "import pandas as pd                      # Untuk manipulasi data tabel (DataFrame)\n",
        "import numpy as np                       # Untuk operasi numerik\n",
        "import re                                # Untuk regular expression (cleaning teks)\n",
        "import string                            # Untuk operasi string, misal hapus tanda baca\n",
        "import nltk                              # Natural Language Toolkit, untuk teks processing\n",
        "import tensorflow as tf                  # Framework deep learning\n",
        "from sklearn.model_selection import train_test_split  # Untuk split data training dan testing\n",
        "from sklearn.preprocessing import LabelEncoder        # Untuk encoding label (kelas) menjadi angka\n",
        "from sklearn.utils import resample                     # Untuk upsampling data minoritas\n",
        "from tensorflow.keras.preprocessing.text import Tokenizer      # Untuk membuat token dari teks\n",
        "from tensorflow.keras.preprocessing.sequence import pad_sequences  # Untuk padding sequence agar panjang sama\n",
        "from tensorflow.keras.models import Sequential       # Untuk membangun model neural network sequential\n",
        "from tensorflow.keras.layers import Embedding, LSTM, Dense, Dropout, Bidirectional  # Layer-layer neural network\n",
        "from nltk.corpus import stopwords                  # Stopwords bahasa Indonesia\n",
        "import matplotlib.pyplot as plt                    # Untuk visualisasi grafik\n",
        "\n",
        "nltk.download('stopwords')  # Mengunduh stopwords bahasa Indonesia"
      ],
      "metadata": {
        "colab": {
          "base_uri": "https://localhost:8080/"
        },
        "id": "xRYf_g98a67e",
        "outputId": "e10b92a0-5143-429e-8469-b14006397d70"
      },
      "execution_count": 1,
      "outputs": [
        {
          "output_type": "stream",
          "name": "stderr",
          "text": [
            "[nltk_data] Downloading package stopwords to /root/nltk_data...\n",
            "[nltk_data]   Unzipping corpora/stopwords.zip.\n"
          ]
        },
        {
          "output_type": "execute_result",
          "data": {
            "text/plain": [
              "True"
            ]
          },
          "metadata": {},
          "execution_count": 1
        }
      ]
    },
    {
      "cell_type": "code",
      "source": [
        "# BACA DATASET\n",
        "file_path = \"dataset_tweet_sentiment_pilkada_DKI_2017.csv\"  # Path file CSV dataset\n",
        "data = pd.read_csv(file_path)                                 # Membaca dataset menjadi DataFrame\n",
        "data = data[['Text Tweet', 'Sentiment']].dropna()            # Ambil kolom 'Text Tweet' dan 'Sentiment', hapus baris kosong\n"
      ],
      "metadata": {
        "id": "iK75E8X5a6tZ"
      },
      "execution_count": 2,
      "outputs": []
    },
    {
      "cell_type": "code",
      "source": [
        "# CLEANING TEKS\n",
        "stop_words = set(stopwords.words('indonesian'))  # Ambil daftar stopwords bahasa Indonesia\n",
        "important_words = {\"tidak\", \"bukan\", \"ga\", \"nggak\", \"enggak\"}  # Kata penting yang jangan dihapus\n",
        "stop_words = stop_words - important_words       # Hapus kata penting dari daftar stopwords\n",
        "\n",
        "def clean_text(text):                            # Fungsi untuk membersihkan teks\n",
        "    text = text.lower()                          # Ubah semua teks menjadi huruf kecil\n",
        "    text = re.sub(r'http\\S+|www\\S+|https\\S+', '', text)  # Hapus link/URL\n",
        "    text = re.sub(r'@\\w+|#\\w+', '', text)                # Hapus mention dan hashtag\n",
        "    text = re.sub(r'(agus|silvy|anies|sandi|ahok|djarot)', '', text)  # Hapus nama kandidat\n",
        "    text = re.sub(r'[^a-zA-Z\\s]', '', text)              # Hapus karakter non-alfabet\n",
        "    text = text.translate(str.maketrans('', '', string.punctuation))  # Hapus tanda baca\n",
        "    tokens = text.split()                                # Pisahkan teks menjadi kata/token\n",
        "    tokens = [w for w in tokens if w not in stop_words]  # Hapus stopwords\n",
        "    return \" \".join(tokens)                              # Gabungkan kembali menjadi string\n",
        "\n",
        "data['clean_text'] = data['Text Tweet'].astype(str).apply(clean_text)  # Terapkan cleaning ke seluruh dataset\n"
      ],
      "metadata": {
        "id": "dfLrQwXJbHmz"
      },
      "execution_count": 3,
      "outputs": []
    },
    {
      "cell_type": "code",
      "source": [
        "# Encoding Label\n",
        "label_encoder = LabelEncoder()                 # Buat encoder label\n",
        "data['label'] = label_encoder.fit_transform(data['Sentiment'])  # Ubah kelas sentiment menjadi angka (0 atau 1)\n"
      ],
      "metadata": {
        "id": "8PvBt8U0bMhM"
      },
      "execution_count": 4,
      "outputs": []
    },
    {
      "cell_type": "code",
      "source": [
        "# Balancing Dataset\n",
        "df_majority = data[data['label'] == data['label'].mode()[0]]      # Ambil kelas mayoritas\n",
        "df_minority = data[data['label'] != data['label'].mode()[0]]      # Ambil kelas minoritas\n",
        "\n",
        "df_minority_upsampled = resample(                                 # Upsampling kelas minoritas\n",
        "    df_minority,\n",
        "    replace=True,                                                  # Sampling dengan pengembalian\n",
        "    n_samples=len(df_majority),                                    # Samakan jumlah dengan kelas mayoritas\n",
        "    random_state=42                                                # Seed agar hasil konsisten\n",
        ")\n",
        "\n",
        "data_balanced = pd.concat([df_majority, df_minority_upsampled])   # Gabungkan kembali menjadi dataset seimbang\n"
      ],
      "metadata": {
        "id": "6FhqQcF0bTHg"
      },
      "execution_count": 5,
      "outputs": []
    },
    {
      "cell_type": "code",
      "source": [
        "# Split Data\n",
        "X_train, X_test, y_train, y_test = train_test_split(               # Split data menjadi training dan testing\n",
        "    data_balanced['clean_text'], data_balanced['label'],\n",
        "    test_size=0.2,                                                 # 20% untuk testing\n",
        "    random_state=42\n",
        ")"
      ],
      "metadata": {
        "id": "YH9jh8EVbYyN"
      },
      "execution_count": 6,
      "outputs": []
    },
    {
      "cell_type": "code",
      "source": [
        "# Tokenizer dan Padding\n",
        "tokenizer = Tokenizer(num_words=10000, oov_token=\"<OOV>\")  # Buat tokenizer, maksimal 10000 kata, OOV untuk kata tidak dikenal\n",
        "tokenizer.fit_on_texts(X_train)                             # Fit tokenizer ke data training\n",
        "\n",
        "X_train_seq = tokenizer.texts_to_sequences(X_train)         # Konversi teks training menjadi sequence angka\n",
        "X_test_seq = tokenizer.texts_to_sequences(X_test)           # Konversi teks testing menjadi sequence angka\n",
        "\n",
        "max_len = 100\n",
        "X_train_pad = pad_sequences(X_train_seq, maxlen=max_len, padding='post')  # Padding sequence training\n",
        "X_test_pad = pad_sequences(X_test_seq, maxlen=max_len, padding='post')    # Padding sequence testing\n"
      ],
      "metadata": {
        "id": "0rX0ThDgbdzL"
      },
      "execution_count": 7,
      "outputs": []
    },
    {
      "cell_type": "code",
      "source": [
        "# MODEL BIDIRECTIONAL LSTM\n",
        "model = Sequential([\n",
        "    Embedding(input_dim=10000, output_dim=128),               # Embedding layer, representasi kata menjadi vektor 128 dimensi\n",
        "    Bidirectional(LSTM(128, return_sequences=False)),         # LSTM dua arah dengan 128 unit\n",
        "    Dropout(0.3),                                             # Dropout 30% untuk mencegah overfitting\n",
        "    Dense(64, activation='relu'),                              # Dense layer 64 unit, ReLU activation\n",
        "    Dense(1, activation='sigmoid')                             # Output layer 1 unit, sigmoid untuk binary classification\n",
        "])\n",
        "\n",
        "model.compile(loss='binary_crossentropy', optimizer='adam', metrics=['accuracy'])  # Kompilasi model\n",
        "\n",
        "model.build(input_shape=(None, max_len))  # Build model agar input shape jelas (None = batch size fleksibel)\n",
        "model.summary()"
      ],
      "metadata": {
        "colab": {
          "base_uri": "https://localhost:8080/",
          "height": 306
        },
        "id": "sf9RRFnEblVW",
        "outputId": "cb29cc99-9f68-4f3c-c35c-4de97061adb9"
      },
      "execution_count": 8,
      "outputs": [
        {
          "output_type": "display_data",
          "data": {
            "text/plain": [
              "\u001b[1mModel: \"sequential\"\u001b[0m\n"
            ],
            "text/html": [
              "<pre style=\"white-space:pre;overflow-x:auto;line-height:normal;font-family:Menlo,'DejaVu Sans Mono',consolas,'Courier New',monospace\"><span style=\"font-weight: bold\">Model: \"sequential\"</span>\n",
              "</pre>\n"
            ]
          },
          "metadata": {}
        },
        {
          "output_type": "display_data",
          "data": {
            "text/plain": [
              "┏━━━━━━━━━━━━━━━━━━━━━━━━━━━━━━━━━┳━━━━━━━━━━━━━━━━━━━━━━━━┳━━━━━━━━━━━━━━━┓\n",
              "┃\u001b[1m \u001b[0m\u001b[1mLayer (type)                   \u001b[0m\u001b[1m \u001b[0m┃\u001b[1m \u001b[0m\u001b[1mOutput Shape          \u001b[0m\u001b[1m \u001b[0m┃\u001b[1m \u001b[0m\u001b[1m      Param #\u001b[0m\u001b[1m \u001b[0m┃\n",
              "┡━━━━━━━━━━━━━━━━━━━━━━━━━━━━━━━━━╇━━━━━━━━━━━━━━━━━━━━━━━━╇━━━━━━━━━━━━━━━┩\n",
              "│ embedding (\u001b[38;5;33mEmbedding\u001b[0m)           │ (\u001b[38;5;45mNone\u001b[0m, \u001b[38;5;34m100\u001b[0m, \u001b[38;5;34m128\u001b[0m)       │     \u001b[38;5;34m1,280,000\u001b[0m │\n",
              "├─────────────────────────────────┼────────────────────────┼───────────────┤\n",
              "│ bidirectional (\u001b[38;5;33mBidirectional\u001b[0m)   │ (\u001b[38;5;45mNone\u001b[0m, \u001b[38;5;34m256\u001b[0m)            │       \u001b[38;5;34m263,168\u001b[0m │\n",
              "├─────────────────────────────────┼────────────────────────┼───────────────┤\n",
              "│ dropout (\u001b[38;5;33mDropout\u001b[0m)               │ (\u001b[38;5;45mNone\u001b[0m, \u001b[38;5;34m256\u001b[0m)            │             \u001b[38;5;34m0\u001b[0m │\n",
              "├─────────────────────────────────┼────────────────────────┼───────────────┤\n",
              "│ dense (\u001b[38;5;33mDense\u001b[0m)                   │ (\u001b[38;5;45mNone\u001b[0m, \u001b[38;5;34m64\u001b[0m)             │        \u001b[38;5;34m16,448\u001b[0m │\n",
              "├─────────────────────────────────┼────────────────────────┼───────────────┤\n",
              "│ dense_1 (\u001b[38;5;33mDense\u001b[0m)                 │ (\u001b[38;5;45mNone\u001b[0m, \u001b[38;5;34m1\u001b[0m)              │            \u001b[38;5;34m65\u001b[0m │\n",
              "└─────────────────────────────────┴────────────────────────┴───────────────┘\n"
            ],
            "text/html": [
              "<pre style=\"white-space:pre;overflow-x:auto;line-height:normal;font-family:Menlo,'DejaVu Sans Mono',consolas,'Courier New',monospace\">┏━━━━━━━━━━━━━━━━━━━━━━━━━━━━━━━━━┳━━━━━━━━━━━━━━━━━━━━━━━━┳━━━━━━━━━━━━━━━┓\n",
              "┃<span style=\"font-weight: bold\"> Layer (type)                    </span>┃<span style=\"font-weight: bold\"> Output Shape           </span>┃<span style=\"font-weight: bold\">       Param # </span>┃\n",
              "┡━━━━━━━━━━━━━━━━━━━━━━━━━━━━━━━━━╇━━━━━━━━━━━━━━━━━━━━━━━━╇━━━━━━━━━━━━━━━┩\n",
              "│ embedding (<span style=\"color: #0087ff; text-decoration-color: #0087ff\">Embedding</span>)           │ (<span style=\"color: #00d7ff; text-decoration-color: #00d7ff\">None</span>, <span style=\"color: #00af00; text-decoration-color: #00af00\">100</span>, <span style=\"color: #00af00; text-decoration-color: #00af00\">128</span>)       │     <span style=\"color: #00af00; text-decoration-color: #00af00\">1,280,000</span> │\n",
              "├─────────────────────────────────┼────────────────────────┼───────────────┤\n",
              "│ bidirectional (<span style=\"color: #0087ff; text-decoration-color: #0087ff\">Bidirectional</span>)   │ (<span style=\"color: #00d7ff; text-decoration-color: #00d7ff\">None</span>, <span style=\"color: #00af00; text-decoration-color: #00af00\">256</span>)            │       <span style=\"color: #00af00; text-decoration-color: #00af00\">263,168</span> │\n",
              "├─────────────────────────────────┼────────────────────────┼───────────────┤\n",
              "│ dropout (<span style=\"color: #0087ff; text-decoration-color: #0087ff\">Dropout</span>)               │ (<span style=\"color: #00d7ff; text-decoration-color: #00d7ff\">None</span>, <span style=\"color: #00af00; text-decoration-color: #00af00\">256</span>)            │             <span style=\"color: #00af00; text-decoration-color: #00af00\">0</span> │\n",
              "├─────────────────────────────────┼────────────────────────┼───────────────┤\n",
              "│ dense (<span style=\"color: #0087ff; text-decoration-color: #0087ff\">Dense</span>)                   │ (<span style=\"color: #00d7ff; text-decoration-color: #00d7ff\">None</span>, <span style=\"color: #00af00; text-decoration-color: #00af00\">64</span>)             │        <span style=\"color: #00af00; text-decoration-color: #00af00\">16,448</span> │\n",
              "├─────────────────────────────────┼────────────────────────┼───────────────┤\n",
              "│ dense_1 (<span style=\"color: #0087ff; text-decoration-color: #0087ff\">Dense</span>)                 │ (<span style=\"color: #00d7ff; text-decoration-color: #00d7ff\">None</span>, <span style=\"color: #00af00; text-decoration-color: #00af00\">1</span>)              │            <span style=\"color: #00af00; text-decoration-color: #00af00\">65</span> │\n",
              "└─────────────────────────────────┴────────────────────────┴───────────────┘\n",
              "</pre>\n"
            ]
          },
          "metadata": {}
        },
        {
          "output_type": "display_data",
          "data": {
            "text/plain": [
              "\u001b[1m Total params: \u001b[0m\u001b[38;5;34m1,559,681\u001b[0m (5.95 MB)\n"
            ],
            "text/html": [
              "<pre style=\"white-space:pre;overflow-x:auto;line-height:normal;font-family:Menlo,'DejaVu Sans Mono',consolas,'Courier New',monospace\"><span style=\"font-weight: bold\"> Total params: </span><span style=\"color: #00af00; text-decoration-color: #00af00\">1,559,681</span> (5.95 MB)\n",
              "</pre>\n"
            ]
          },
          "metadata": {}
        },
        {
          "output_type": "display_data",
          "data": {
            "text/plain": [
              "\u001b[1m Trainable params: \u001b[0m\u001b[38;5;34m1,559,681\u001b[0m (5.95 MB)\n"
            ],
            "text/html": [
              "<pre style=\"white-space:pre;overflow-x:auto;line-height:normal;font-family:Menlo,'DejaVu Sans Mono',consolas,'Courier New',monospace\"><span style=\"font-weight: bold\"> Trainable params: </span><span style=\"color: #00af00; text-decoration-color: #00af00\">1,559,681</span> (5.95 MB)\n",
              "</pre>\n"
            ]
          },
          "metadata": {}
        },
        {
          "output_type": "display_data",
          "data": {
            "text/plain": [
              "\u001b[1m Non-trainable params: \u001b[0m\u001b[38;5;34m0\u001b[0m (0.00 B)\n"
            ],
            "text/html": [
              "<pre style=\"white-space:pre;overflow-x:auto;line-height:normal;font-family:Menlo,'DejaVu Sans Mono',consolas,'Courier New',monospace\"><span style=\"font-weight: bold\"> Non-trainable params: </span><span style=\"color: #00af00; text-decoration-color: #00af00\">0</span> (0.00 B)\n",
              "</pre>\n"
            ]
          },
          "metadata": {}
        }
      ]
    },
    {
      "cell_type": "code",
      "source": [
        "# Training\n",
        "history = model.fit(\n",
        "    X_train_pad, y_train,\n",
        "    epochs=20,                 # Latih 20 epoch\n",
        "    batch_size=32,             # Batch size 32\n",
        "    validation_split=0.2,      # 20% data training untuk validasi\n",
        "    verbose=1                  # Tampilkan progress training\n",
        ")"
      ],
      "metadata": {
        "colab": {
          "base_uri": "https://localhost:8080/"
        },
        "id": "ow-_0fKdbvbe",
        "outputId": "7f5b0467-8d23-4636-b451-18f85ae46990"
      },
      "execution_count": 9,
      "outputs": [
        {
          "output_type": "stream",
          "name": "stdout",
          "text": [
            "Epoch 1/20\n",
            "\u001b[1m18/18\u001b[0m \u001b[32m━━━━━━━━━━━━━━━━━━━━\u001b[0m\u001b[37m\u001b[0m \u001b[1m11s\u001b[0m 421ms/step - accuracy: 0.5253 - loss: 0.6916 - val_accuracy: 0.4931 - val_loss: 0.6959\n",
            "Epoch 2/20\n",
            "\u001b[1m18/18\u001b[0m \u001b[32m━━━━━━━━━━━━━━━━━━━━\u001b[0m\u001b[37m\u001b[0m \u001b[1m8s\u001b[0m 302ms/step - accuracy: 0.5668 - loss: 0.6672 - val_accuracy: 0.5764 - val_loss: 0.6543\n",
            "Epoch 3/20\n",
            "\u001b[1m18/18\u001b[0m \u001b[32m━━━━━━━━━━━━━━━━━━━━\u001b[0m\u001b[37m\u001b[0m \u001b[1m7s\u001b[0m 400ms/step - accuracy: 0.7839 - loss: 0.5228 - val_accuracy: 0.7708 - val_loss: 0.4709\n",
            "Epoch 4/20\n",
            "\u001b[1m18/18\u001b[0m \u001b[32m━━━━━━━━━━━━━━━━━━━━\u001b[0m\u001b[37m\u001b[0m \u001b[1m6s\u001b[0m 318ms/step - accuracy: 0.9281 - loss: 0.1760 - val_accuracy: 0.7500 - val_loss: 0.5102\n",
            "Epoch 5/20\n",
            "\u001b[1m18/18\u001b[0m \u001b[32m━━━━━━━━━━━━━━━━━━━━\u001b[0m\u001b[37m\u001b[0m \u001b[1m10s\u001b[0m 316ms/step - accuracy: 0.9943 - loss: 0.0457 - val_accuracy: 0.7569 - val_loss: 0.5693\n",
            "Epoch 6/20\n",
            "\u001b[1m18/18\u001b[0m \u001b[32m━━━━━━━━━━━━━━━━━━━━\u001b[0m\u001b[37m\u001b[0m \u001b[1m7s\u001b[0m 399ms/step - accuracy: 0.9882 - loss: 0.0306 - val_accuracy: 0.8056 - val_loss: 0.5616\n",
            "Epoch 7/20\n",
            "\u001b[1m18/18\u001b[0m \u001b[32m━━━━━━━━━━━━━━━━━━━━\u001b[0m\u001b[37m\u001b[0m \u001b[1m5s\u001b[0m 303ms/step - accuracy: 0.9911 - loss: 0.0178 - val_accuracy: 0.7778 - val_loss: 0.6348\n",
            "Epoch 8/20\n",
            "\u001b[1m18/18\u001b[0m \u001b[32m━━━━━━━━━━━━━━━━━━━━\u001b[0m\u001b[37m\u001b[0m \u001b[1m11s\u001b[0m 360ms/step - accuracy: 0.9956 - loss: 0.0156 - val_accuracy: 0.7708 - val_loss: 0.6689\n",
            "Epoch 9/20\n",
            "\u001b[1m18/18\u001b[0m \u001b[32m━━━━━━━━━━━━━━━━━━━━\u001b[0m\u001b[37m\u001b[0m \u001b[1m6s\u001b[0m 317ms/step - accuracy: 0.9945 - loss: 0.0141 - val_accuracy: 0.7778 - val_loss: 0.7013\n",
            "Epoch 10/20\n",
            "\u001b[1m18/18\u001b[0m \u001b[32m━━━━━━━━━━━━━━━━━━━━\u001b[0m\u001b[37m\u001b[0m \u001b[1m7s\u001b[0m 394ms/step - accuracy: 0.9956 - loss: 0.0128 - val_accuracy: 0.7708 - val_loss: 0.7199\n",
            "Epoch 11/20\n",
            "\u001b[1m18/18\u001b[0m \u001b[32m━━━━━━━━━━━━━━━━━━━━\u001b[0m\u001b[37m\u001b[0m \u001b[1m10s\u001b[0m 403ms/step - accuracy: 0.9980 - loss: 0.0080 - val_accuracy: 0.7917 - val_loss: 0.7493\n",
            "Epoch 12/20\n",
            "\u001b[1m18/18\u001b[0m \u001b[32m━━━━━━━━━━━━━━━━━━━━\u001b[0m\u001b[37m\u001b[0m \u001b[1m5s\u001b[0m 305ms/step - accuracy: 0.9936 - loss: 0.0181 - val_accuracy: 0.7778 - val_loss: 0.7555\n",
            "Epoch 13/20\n",
            "\u001b[1m18/18\u001b[0m \u001b[32m━━━━━━━━━━━━━━━━━━━━\u001b[0m\u001b[37m\u001b[0m \u001b[1m7s\u001b[0m 389ms/step - accuracy: 0.9948 - loss: 0.0124 - val_accuracy: 0.7431 - val_loss: 0.8100\n",
            "Epoch 14/20\n",
            "\u001b[1m18/18\u001b[0m \u001b[32m━━━━━━━━━━━━━━━━━━━━\u001b[0m\u001b[37m\u001b[0m \u001b[1m6s\u001b[0m 320ms/step - accuracy: 0.9885 - loss: 0.0148 - val_accuracy: 0.7708 - val_loss: 0.7952\n",
            "Epoch 15/20\n",
            "\u001b[1m18/18\u001b[0m \u001b[32m━━━━━━━━━━━━━━━━━━━━\u001b[0m\u001b[37m\u001b[0m \u001b[1m11s\u001b[0m 388ms/step - accuracy: 0.9913 - loss: 0.0156 - val_accuracy: 0.7500 - val_loss: 0.8672\n",
            "Epoch 16/20\n",
            "\u001b[1m18/18\u001b[0m \u001b[32m━━━━━━━━━━━━━━━━━━━━\u001b[0m\u001b[37m\u001b[0m \u001b[1m10s\u001b[0m 396ms/step - accuracy: 0.9949 - loss: 0.0098 - val_accuracy: 0.7569 - val_loss: 0.8908\n",
            "Epoch 17/20\n",
            "\u001b[1m18/18\u001b[0m \u001b[32m━━━━━━━━━━━━━━━━━━━━\u001b[0m\u001b[37m\u001b[0m \u001b[1m5s\u001b[0m 303ms/step - accuracy: 0.9952 - loss: 0.0123 - val_accuracy: 0.7639 - val_loss: 0.9124\n",
            "Epoch 18/20\n",
            "\u001b[1m18/18\u001b[0m \u001b[32m━━━━━━━━━━━━━━━━━━━━\u001b[0m\u001b[37m\u001b[0m \u001b[1m11s\u001b[0m 340ms/step - accuracy: 0.9929 - loss: 0.0100 - val_accuracy: 0.7917 - val_loss: 0.8869\n",
            "Epoch 19/20\n",
            "\u001b[1m18/18\u001b[0m \u001b[32m━━━━━━━━━━━━━━━━━━━━\u001b[0m\u001b[37m\u001b[0m \u001b[1m11s\u001b[0m 401ms/step - accuracy: 0.9915 - loss: 0.0099 - val_accuracy: 0.7014 - val_loss: 0.9643\n",
            "Epoch 20/20\n",
            "\u001b[1m18/18\u001b[0m \u001b[32m━━━━━━━━━━━━━━━━━━━━\u001b[0m\u001b[37m\u001b[0m \u001b[1m6s\u001b[0m 316ms/step - accuracy: 0.9958 - loss: 0.0129 - val_accuracy: 0.7500 - val_loss: 0.9067\n"
          ]
        }
      ]
    },
    {
      "cell_type": "code",
      "source": [
        "# Evaluasi\n",
        "loss, acc = model.evaluate(X_test_pad, y_test, verbose=1)  # Evaluasi model dengan data testing\n",
        "print(f\"\\nAkurasi Data Uji: {acc:.4f}\")                  # Tampilkan akurasi\n",
        "print(f\"Loss Data Uji: {loss:.4f}\")                      # Tampilkan loss\n",
        "\n",
        "# Menampilkan visualisasi hasil Training\n",
        "plt.figure(figsize=(10,4))\n",
        "plt.subplot(1,2,1)\n",
        "plt.plot(history.history['accuracy'], label='Akurasi Training')       # Plot akurasi training\n",
        "plt.plot(history.history['val_accuracy'], label='Akurasi Validasi')  # Plot akurasi validasi\n",
        "plt.title('Perbandingan Akurasi')\n",
        "plt.xlabel('Epoch')\n",
        "plt.ylabel('Akurasi')\n",
        "plt.legend()\n",
        "\n",
        "plt.subplot(1,2,2)\n",
        "plt.plot(history.history['loss'], label='Loss Training')              # Plot loss training\n",
        "plt.plot(history.history['val_loss'], label='Loss Validasi')          # Plot loss validasi\n",
        "plt.title('Perbandingan Loss')\n",
        "plt.xlabel('Epoch')\n",
        "plt.ylabel('Loss')\n",
        "plt.legend()\n",
        "plt.show()\n"
      ],
      "metadata": {
        "colab": {
          "base_uri": "https://localhost:8080/",
          "height": 479
        },
        "id": "dHe-ZQ9PbzaC",
        "outputId": "bcebdb6c-3eb4-4e23-af10-ee961b15742d"
      },
      "execution_count": 10,
      "outputs": [
        {
          "output_type": "stream",
          "name": "stdout",
          "text": [
            "\u001b[1m6/6\u001b[0m \u001b[32m━━━━━━━━━━━━━━━━━━━━\u001b[0m\u001b[37m\u001b[0m \u001b[1m1s\u001b[0m 83ms/step - accuracy: 0.7735 - loss: 0.8941\n",
            "\n",
            "Akurasi Data Uji: 0.7722\n",
            "Loss Data Uji: 0.8320\n"
          ]
        },
        {
          "output_type": "display_data",
          "data": {
            "text/plain": [
              "<Figure size 1000x400 with 2 Axes>"
            ],
            "image/png": "[encoded data removed]"
          },
          "metadata": {}
        }
      ]
    }
  ]
}