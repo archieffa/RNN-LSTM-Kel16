{
  "nbformat": 4,
  "nbformat_minor": 0,
  "metadata": {
    "colab": {
      "provenance": []
    },
    "kernelspec": {
      "name": "python3",
      "display_name": "Python 3"
    },
    "language_info": {
      "name": "python"
    },
    "widgets": {
      "application/vnd.jupyter.widget-state+json": {
        "8c187b867f034a11895b4f756ff4ef42": {
          "model_module": "@jupyter-widgets/controls",
          "model_name": "VBoxModel",
          "model_module_version": "1.5.0",
          "state": {
            "_dom_classes": [],
            "_model_module": "@jupyter-widgets/controls",
            "_model_module_version": "1.5.0",
            "_model_name": "VBoxModel",
            "_view_count": null,
            "_view_module": "@jupyter-widgets/controls",
            "_view_module_version": "1.5.0",
            "_view_name": "VBoxView",
            "box_style": "",
            "children": [
              "IPY_MODEL_74a4077ed0614e9bbcb27b414734538b",
              "IPY_MODEL_b93d47e450c54f4aabbca95b670cc7c7",
              "IPY_MODEL_cd75e09a0f624813870f31dd240eb4eb"
            ],
            "layout": "IPY_MODEL_9df75ec2b9044f7ca9fa71a309bc0760"
          }
        },
        "74a4077ed0614e9bbcb27b414734538b": {
          "model_module": "@jupyter-widgets/controls",
          "model_name": "TextModel",
          "model_module_version": "1.5.0",
          "state": {
            "_dom_classes": [],
            "_model_module": "@jupyter-widgets/controls",
            "_model_module_version": "1.5.0",
            "_model_name": "TextModel",
            "_view_count": null,
            "_view_module": "@jupyter-widgets/controls",
            "_view_module_version": "1.5.0",
            "_view_name": "TextView",
            "continuous_update": true,
            "description": "User:",
            "description_tooltip": null,
            "disabled": false,
            "layout": "IPY_MODEL_74b85559d1a841458bcae2c9890ca2ae",
            "placeholder": "Ketik pertanyaanmu di sini...",
            "style": "IPY_MODEL_d1c21870cd4b4f57bed3ebad4908f524",
            "value": ""
          }
        },
        "b93d47e450c54f4aabbca95b670cc7c7": {
          "model_module": "@jupyter-widgets/controls",
          "model_name": "HBoxModel",
          "model_module_version": "1.5.0",
          "state": {
            "_dom_classes": [],
            "_model_module": "@jupyter-widgets/controls",
            "_model_module_version": "1.5.0",
            "_model_name": "HBoxModel",
            "_view_count": null,
            "_view_module": "@jupyter-widgets/controls",
            "_view_module_version": "1.5.0",
            "_view_name": "HBoxView",
            "box_style": "",
            "children": [
              "IPY_MODEL_ce243312c7c8428eb8870bf71a98afef",
              "IPY_MODEL_26094002cf45406e94157696eec50f86",
              "IPY_MODEL_1d59bcddae1e42f58f755cd0059ae0be"
            ],
            "layout": "IPY_MODEL_d4c5c621d2314c3981fe32a6e2fdcb0e"
          }
        },
        "cd75e09a0f624813870f31dd240eb4eb": {
          "model_module": "@jupyter-widgets/output",
          "model_name": "OutputModel",
          "model_module_version": "1.0.0",
          "state": {
            "_dom_classes": [],
            "_model_module": "@jupyter-widgets/output",
            "_model_module_version": "1.0.0",
            "_model_name": "OutputModel",
            "_view_count": null,
            "_view_module": "@jupyter-widgets/output",
            "_view_module_version": "1.0.0",
            "_view_name": "OutputView",
            "layout": "IPY_MODEL_9b6c5892d96942fc8414cb6785aa0ff1",
            "msg_id": "",
            "outputs": [
              {
                "output_type": "display_data",
                "data": {
                  "text/plain": "<IPython.core.display.HTML object>",
                  "text/html": "<div style=\"font-family: Inter, system-ui, Arial; font-size:14px\">\n                <div style=\"margin:8px 0;\">\n                    <div style=\"font-weight:600;color:#1a73e8\">Kamu:</div>\n                    <div style=\"white-space:pre-wrap\">oy</div>\n                </div>\n                <div style=\"margin:8px 0;\">\n                    <div style=\"font-weight:600;color:#34a853\">Bot:</div>\n                    <div style=\"white-space:pre-wrap\"><oov></div>\n                </div>\n                <div style=\"margin:8px 0;\">\n                    <div style=\"font-weight:600;color:#1a73e8\">Kamu:</div>\n                    <div style=\"white-space:pre-wrap\">halo</div>\n                </div>\n                <div style=\"margin:8px 0;\">\n                    <div style=\"font-weight:600;color:#34a853\">Bot:</div>\n                    <div style=\"white-space:pre-wrap\"><oov></div>\n                </div></div>"
                },
                "metadata": {}
              }
            ]
          }
        },
        "9df75ec2b9044f7ca9fa71a309bc0760": {
          "model_module": "@jupyter-widgets/base",
          "model_name": "LayoutModel",
          "model_module_version": "1.2.0",
          "state": {
            "_model_module": "@jupyter-widgets/base",
            "_model_module_version": "1.2.0",
            "_model_name": "LayoutModel",
            "_view_count": null,
            "_view_module": "@jupyter-widgets/base",
            "_view_module_version": "1.2.0",
            "_view_name": "LayoutView",
            "align_content": null,
            "align_items": null,
            "align_self": null,
            "border": null,
            "bottom": null,
            "display": null,
            "flex": null,
            "flex_flow": null,
            "grid_area": null,
            "grid_auto_columns": null,
            "grid_auto_flow": null,
            "grid_auto_rows": null,
            "grid_column": null,
            "grid_gap": null,
            "grid_row": null,
            "grid_template_areas": null,
            "grid_template_columns": null,
            "grid_template_rows": null,
            "height": null,
            "justify_content": null,
            "justify_items": null,
            "left": null,
            "margin": null,
            "max_height": null,
            "max_width": null,
            "min_height": null,
            "min_width": null,
            "object_fit": null,
            "object_position": null,
            "order": null,
            "overflow": null,
            "overflow_x": null,
            "overflow_y": null,
            "padding": null,
            "right": null,
            "top": null,
            "visibility": null,
            "width": null
          }
        },
        "74b85559d1a841458bcae2c9890ca2ae": {
          "model_module": "@jupyter-widgets/base",
          "model_name": "LayoutModel",
          "model_module_version": "1.2.0",
          "state": {
            "_model_module": "@jupyter-widgets/base",
            "_model_module_version": "1.2.0",
            "_model_name": "LayoutModel",
            "_view_count": null,
            "_view_module": "@jupyter-widgets/base",
            "_view_module_version": "1.2.0",
            "_view_name": "LayoutView",
            "align_content": null,
            "align_items": null,
            "align_self": null,
            "border": null,
            "bottom": null,
            "display": null,
            "flex": null,
            "flex_flow": null,
            "grid_area": null,
            "grid_auto_columns": null,
            "grid_auto_flow": null,
            "grid_auto_rows": null,
            "grid_column": null,
            "grid_gap": null,
            "grid_row": null,
            "grid_template_areas": null,
            "grid_template_columns": null,
            "grid_template_rows": null,
            "height": null,
            "justify_content": null,
            "justify_items": null,
            "left": null,
            "margin": null,
            "max_height": null,
            "max_width": null,
            "min_height": null,
            "min_width": null,
            "object_fit": null,
            "object_position": null,
            "order": null,
            "overflow": null,
            "overflow_x": null,
            "overflow_y": null,
            "padding": null,
            "right": null,
            "top": null,
            "visibility": null,
            "width": "100%"
          }
        },
        "d1c21870cd4b4f57bed3ebad4908f524": {
          "model_module": "@jupyter-widgets/controls",
          "model_name": "DescriptionStyleModel",
          "model_module_version": "1.5.0",
          "state": {
            "_model_module": "@jupyter-widgets/controls",
            "_model_module_version": "1.5.0",
            "_model_name": "DescriptionStyleModel",
            "_view_count": null,
            "_view_module": "@jupyter-widgets/base",
            "_view_module_version": "1.2.0",
            "_view_name": "StyleView",
            "description_width": ""
          }
        },
        "ce243312c7c8428eb8870bf71a98afef": {
          "model_module": "@jupyter-widgets/controls",
          "model_name": "ButtonModel",
          "model_module_version": "1.5.0",
          "state": {
            "_dom_classes": [],
            "_model_module": "@jupyter-widgets/controls",
            "_model_module_version": "1.5.0",
            "_model_name": "ButtonModel",
            "_view_count": null,
            "_view_module": "@jupyter-widgets/controls",
            "_view_module_version": "1.5.0",
            "_view_name": "ButtonView",
            "button_style": "primary",
            "description": "Kirim",
            "disabled": false,
            "icon": "",
            "layout": "IPY_MODEL_97c4d0b4e74540b695e47b57c5035ce3",
            "style": "IPY_MODEL_0651b358400f4c519b03fb9bd6fc51f6",
            "tooltip": "Kirim pesan"
          }
        },
        "26094002cf45406e94157696eec50f86": {
          "model_module": "@jupyter-widgets/controls",
          "model_name": "ButtonModel",
          "model_module_version": "1.5.0",
          "state": {
            "_dom_classes": [],
            "_model_module": "@jupyter-widgets/controls",
            "_model_module_version": "1.5.0",
            "_model_name": "ButtonModel",
            "_view_count": null,
            "_view_module": "@jupyter-widgets/controls",
            "_view_module_version": "1.5.0",
            "_view_name": "ButtonView",
            "button_style": "",
            "description": "Bersihkan",
            "disabled": false,
            "icon": "",
            "layout": "IPY_MODEL_a59e1d83f3084533a8bf3b31b62fea01",
            "style": "IPY_MODEL_e00538fa3dd2471fb3e47310ca9d31e2",
            "tooltip": "Hapus riwayat"
          }
        },
        "1d59bcddae1e42f58f755cd0059ae0be": {
          "model_module": "@jupyter-widgets/controls",
          "model_name": "LabelModel",
          "model_module_version": "1.5.0",
          "state": {
            "_dom_classes": [],
            "_model_module": "@jupyter-widgets/controls",
            "_model_module_version": "1.5.0",
            "_model_name": "LabelModel",
            "_view_count": null,
            "_view_module": "@jupyter-widgets/controls",
            "_view_module_version": "1.5.0",
            "_view_name": "LabelView",
            "description": "",
            "description_tooltip": null,
            "layout": "IPY_MODEL_37fc7dbd5a244cdc802b371071b23a2d",
            "placeholder": "​",
            "style": "IPY_MODEL_ec42d7be0d1f4788b682762132b99b9f",
            "value": "Siap ✅"
          }
        },
        "d4c5c621d2314c3981fe32a6e2fdcb0e": {
          "model_module": "@jupyter-widgets/base",
          "model_name": "LayoutModel",
          "model_module_version": "1.2.0",
          "state": {
            "_model_module": "@jupyter-widgets/base",
            "_model_module_version": "1.2.0",
            "_model_name": "LayoutModel",
            "_view_count": null,
            "_view_module": "@jupyter-widgets/base",
            "_view_module_version": "1.2.0",
            "_view_name": "LayoutView",
            "align_content": null,
            "align_items": null,
            "align_self": null,
            "border": null,
            "bottom": null,
            "display": null,
            "flex": null,
            "flex_flow": null,
            "grid_area": null,
            "grid_auto_columns": null,
            "grid_auto_flow": null,
            "grid_auto_rows": null,
            "grid_column": null,
            "grid_gap": null,
            "grid_row": null,
            "grid_template_areas": null,
            "grid_template_columns": null,
            "grid_template_rows": null,
            "height": null,
            "justify_content": null,
            "justify_items": null,
            "left": null,
            "margin": null,
            "max_height": null,
            "max_width": null,
            "min_height": null,
            "min_width": null,
            "object_fit": null,
            "object_position": null,
            "order": null,
            "overflow": null,
            "overflow_x": null,
            "overflow_y": null,
            "padding": null,
            "right": null,
            "top": null,
            "visibility": null,
            "width": null
          }
        },
        "9b6c5892d96942fc8414cb6785aa0ff1": {
          "model_module": "@jupyter-widgets/base",
          "model_name": "LayoutModel",
          "model_module_version": "1.2.0",
          "state": {
            "_model_module": "@jupyter-widgets/base",
            "_model_module_version": "1.2.0",
            "_model_name": "LayoutModel",
            "_view_count": null,
            "_view_module": "@jupyter-widgets/base",
            "_view_module_version": "1.2.0",
            "_view_name": "LayoutView",
            "align_content": null,
            "align_items": null,
            "align_self": null,
            "border": "1px solid #ddd",
            "bottom": null,
            "display": null,
            "flex": null,
            "flex_flow": null,
            "grid_area": null,
            "grid_auto_columns": null,
            "grid_auto_flow": null,
            "grid_auto_rows": null,
            "grid_column": null,
            "grid_gap": null,
            "grid_row": null,
            "grid_template_areas": null,
            "grid_template_columns": null,
            "grid_template_rows": null,
            "height": "350px",
            "justify_content": null,
            "justify_items": null,
            "left": null,
            "margin": null,
            "max_height": null,
            "max_width": null,
            "min_height": null,
            "min_width": null,
            "object_fit": null,
            "object_position": null,
            "order": null,
            "overflow": "auto",
            "overflow_x": null,
            "overflow_y": null,
            "padding": "10px",
            "right": null,
            "top": null,
            "visibility": null,
            "width": null
          }
        },
        "97c4d0b4e74540b695e47b57c5035ce3": {
          "model_module": "@jupyter-widgets/base",
          "model_name": "LayoutModel",
          "model_module_version": "1.2.0",
          "state": {
            "_model_module": "@jupyter-widgets/base",
            "_model_module_version": "1.2.0",
            "_model_name": "LayoutModel",
            "_view_count": null,
            "_view_module": "@jupyter-widgets/base",
            "_view_module_version": "1.2.0",
            "_view_name": "LayoutView",
            "align_content": null,
            "align_items": null,
            "align_self": null,
            "border": null,
            "bottom": null,
            "display": null,
            "flex": null,
            "flex_flow": null,
            "grid_area": null,
            "grid_auto_columns": null,
            "grid_auto_flow": null,
            "grid_auto_rows": null,
            "grid_column": null,
            "grid_gap": null,
            "grid_row": null,
            "grid_template_areas": null,
            "grid_template_columns": null,
            "grid_template_rows": null,
            "height": null,
            "justify_content": null,
            "justify_items": null,
            "left": null,
            "margin": null,
            "max_height": null,
            "max_width": null,
            "min_height": null,
            "min_width": null,
            "object_fit": null,
            "object_position": null,
            "order": null,
            "overflow": null,
            "overflow_x": null,
            "overflow_y": null,
            "padding": null,
            "right": null,
            "top": null,
            "visibility": null,
            "width": "120px"
          }
        },
        "0651b358400f4c519b03fb9bd6fc51f6": {
          "model_module": "@jupyter-widgets/controls",
          "model_name": "ButtonStyleModel",
          "model_module_version": "1.5.0",
          "state": {
            "_model_module": "@jupyter-widgets/controls",
            "_model_module_version": "1.5.0",
            "_model_name": "ButtonStyleModel",
            "_view_count": null,
            "_view_module": "@jupyter-widgets/base",
            "_view_module_version": "1.2.0",
            "_view_name": "StyleView",
            "button_color": null,
            "font_weight": ""
          }
        },
        "a59e1d83f3084533a8bf3b31b62fea01": {
          "model_module": "@jupyter-widgets/base",
          "model_name": "LayoutModel",
          "model_module_version": "1.2.0",
          "state": {
            "_model_module": "@jupyter-widgets/base",
            "_model_module_version": "1.2.0",
            "_model_name": "LayoutModel",
            "_view_count": null,
            "_view_module": "@jupyter-widgets/base",
            "_view_module_version": "1.2.0",
            "_view_name": "LayoutView",
            "align_content": null,
            "align_items": null,
            "align_self": null,
            "border": null,
            "bottom": null,
            "display": null,
            "flex": null,
            "flex_flow": null,
            "grid_area": null,
            "grid_auto_columns": null,
            "grid_auto_flow": null,
            "grid_auto_rows": null,
            "grid_column": null,
            "grid_gap": null,
            "grid_row": null,
            "grid_template_areas": null,
            "grid_template_columns": null,
            "grid_template_rows": null,
            "height": null,
            "justify_content": null,
            "justify_items": null,
            "left": null,
            "margin": null,
            "max_height": null,
            "max_width": null,
            "min_height": null,
            "min_width": null,
            "object_fit": null,
            "object_position": null,
            "order": null,
            "overflow": null,
            "overflow_x": null,
            "overflow_y": null,
            "padding": null,
            "right": null,
            "top": null,
            "visibility": null,
            "width": "120px"
          }
        },
        "e00538fa3dd2471fb3e47310ca9d31e2": {
          "model_module": "@jupyter-widgets/controls",
          "model_name": "ButtonStyleModel",
          "model_module_version": "1.5.0",
          "state": {
            "_model_module": "@jupyter-widgets/controls",
            "_model_module_version": "1.5.0",
            "_model_name": "ButtonStyleModel",
            "_view_count": null,
            "_view_module": "@jupyter-widgets/base",
            "_view_module_version": "1.2.0",
            "_view_name": "StyleView",
            "button_color": null,
            "font_weight": ""
          }
        },
        "37fc7dbd5a244cdc802b371071b23a2d": {
          "model_module": "@jupyter-widgets/base",
          "model_name": "LayoutModel",
          "model_module_version": "1.2.0",
          "state": {
            "_model_module": "@jupyter-widgets/base",
            "_model_module_version": "1.2.0",
            "_model_name": "LayoutModel",
            "_view_count": null,
            "_view_module": "@jupyter-widgets/base",
            "_view_module_version": "1.2.0",
            "_view_name": "LayoutView",
            "align_content": null,
            "align_items": null,
            "align_self": null,
            "border": null,
            "bottom": null,
            "display": null,
            "flex": null,
            "flex_flow": null,
            "grid_area": null,
            "grid_auto_columns": null,
            "grid_auto_flow": null,
            "grid_auto_rows": null,
            "grid_column": null,
            "grid_gap": null,
            "grid_row": null,
            "grid_template_areas": null,
            "grid_template_columns": null,
            "grid_template_rows": null,
            "height": null,
            "justify_content": null,
            "justify_items": null,
            "left": null,
            "margin": null,
            "max_height": null,
            "max_width": null,
            "min_height": null,
            "min_width": null,
            "object_fit": null,
            "object_position": null,
            "order": null,
            "overflow": null,
            "overflow_x": null,
            "overflow_y": null,
            "padding": null,
            "right": null,
            "top": null,
            "visibility": null,
            "width": null
          }
        },
        "ec42d7be0d1f4788b682762132b99b9f": {
          "model_module": "@jupyter-widgets/controls",
          "model_name": "DescriptionStyleModel",
          "model_module_version": "1.5.0",
          "state": {
            "_model_module": "@jupyter-widgets/controls",
            "_model_module_version": "1.5.0",
            "_model_name": "DescriptionStyleModel",
            "_view_count": null,
            "_view_module": "@jupyter-widgets/base",
            "_view_module_version": "1.2.0",
            "_view_name": "StyleView",
            "description_width": ""
          }
        }
      }
    }
  },
  "cells": [
    {
      "cell_type": "code",
      "execution_count": null,
      "metadata": {
        "id": "VjCb969q-zOF",
        "colab": {
          "base_uri": "https://localhost:8080/"
        },
        "outputId": "78c8595c-04ec-4406-f262-dbe229538f3f"
      },
      "outputs": [
        {
          "output_type": "stream",
          "name": "stdout",
          "text": [
            "Mounted at /content/drive\n"
          ]
        }
      ],
      "source": [
        "# ============================================================\n",
        "# Chatbot Seq2Seq — LSTM (Keras, Colab-ready)\n",
        "# Dataset: /content/drive/MyDrive/Semester 7/NLP/intents.json\n",
        "#  - Encoder: LSTM\n",
        "#  - Decoder: LSTM (teacher forcing)\n",
        "#  - Evaluasi: Exact Match, BLEU-1/2/4\n",
        "# ============================================================\n",
        "\n",
        "import os, re, json, random, pickle, numpy as np\n",
        "from pathlib import Path\n",
        "\n",
        "# ---- 0) Colab: Mount Google Drive ----\n",
        "from google.colab import drive\n",
        "drive.mount('/content/drive')"
      ]
    },
    {
      "cell_type": "code",
      "source": [
        "# (opsional) BLEU evaluator\n",
        "!pip -q install nltk\n",
        "import nltk\n",
        "nltk.download('punkt', quiet=True)\n",
        "\n",
        "# ---- 1) Konfigurasi umum ----\n",
        "SEED = 42\n",
        "random.seed(SEED); np.random.seed(SEED)\n",
        "\n",
        "DATA_PATH    = \"/content/drive/MyDrive/Semester 7/NLP/train-SQuAD-id.json\"\n",
        "ARTIFACT_DIR = \"/content/artifacts_seq2seq\"\n",
        "CKPT_DIR     = \"/content/checkpoints_seq2seq\"\n",
        "os.makedirs(ARTIFACT_DIR, exist_ok=True)\n",
        "os.makedirs(CKPT_DIR, exist_ok=True)"
      ],
      "metadata": {
        "id": "_eujAKshGPRA"
      },
      "execution_count": null,
      "outputs": []
    },
    {
      "cell_type": "code",
      "source": [
        "# ---- 2) TensorFlow & Keras (pakai versi yang ada di Colab) ----\n",
        "import tensorflow as tf\n",
        "tf.random.set_seed(SEED)\n",
        "print(\"TF version:\", tf.__version__)\n",
        "\n",
        "from tensorflow.keras.preprocessing.text import Tokenizer\n",
        "from tensorflow.keras.preprocessing.sequence import pad_sequences\n",
        "from tensorflow.keras.models import Model\n",
        "from tensorflow.keras.layers import Input, Embedding, LSTM, Dense, Reshape\n",
        "from tensorflow.keras.callbacks import EarlyStopping, ModelCheckpoint"
      ],
      "metadata": {
        "id": "eyhgLzOxGTiu",
        "colab": {
          "base_uri": "https://localhost:8080/"
        },
        "outputId": "37798c5d-f750-45cf-99f5-d922e15c283c"
      },
      "execution_count": null,
      "outputs": [
        {
          "output_type": "stream",
          "name": "stdout",
          "text": [
            "TF version: 2.19.0\n"
          ]
        }
      ]
    },
    {
      "cell_type": "code",
      "source": [
        "# ============================================================\n",
        "# 3) Load dataset intents.json -> Buat pasangan (src, tgt)\n",
        "#     src = pattern, tgt = response\n",
        "# ============================================================\n",
        "with open(DATA_PATH, \"r\", encoding=\"utf-8\") as f:\n",
        "    data_json = json.load(f)\n",
        "\n",
        "pairs = []   # (src_text (question), tgt_text (answer))\n",
        "\n",
        "def clean_text(s: str) -> str:\n",
        "    s = str(s).lower()\n",
        "    # izinkan karakter basic + tanda baca, hapus back-to-back whitespace\n",
        "    s = re.sub(r\"[^a-z0-9\\sÀ-ÿ',?.!/-]\", \" \", s)\n",
        "    s = re.sub(r\"\\s+\", \" \", s).strip()\n",
        "    return s\n",
        "\n",
        "# iterate through SQuAD-like structure\n",
        "for doc in data_json.get(\"data\", []):\n",
        "    for para in doc.get(\"paragraphs\", []):\n",
        "        context = para.get(\"context\", \"\")\n",
        "        # iterate qas\n",
        "        for qa in para.get(\"qas\", []):\n",
        "            question = qa.get(\"question\", \"\").strip()\n",
        "            answers = qa.get(\"answers\", []) or []\n",
        "            if not question or not answers:\n",
        "                continue\n",
        "            # ambil jawaban pertama (bisa juga random atau semua, tapi kita pilih pertama)\n",
        "            answer_text = answers[0].get(\"text\", \"\").strip()\n",
        "            if not answer_text:\n",
        "                continue\n",
        "            # clean question & answer\n",
        "            q_clean = clean_text(question)\n",
        "            a_clean = clean_text(answer_text)\n",
        "            if q_clean == \"\" or a_clean == \"\":\n",
        "                continue\n",
        "            pairs.append((q_clean, a_clean))\n",
        "\n",
        "if not pairs:\n",
        "    raise ValueError(\"Tidak ditemukan pasangan question-answer dari file JSON. Cek struktur file.\")\n",
        "\n",
        "print(f\"Total QA pairs: {len(pairs)}  (contoh 5 teratas)\")\n",
        "for i in range(min(5, len(pairs))):\n",
        "    print(\"  Q:\", pairs[i][0])\n",
        "    print(\"  A:\", pairs[i][1])"
      ],
      "metadata": {
        "id": "HNdXptlHGXLw",
        "colab": {
          "base_uri": "https://localhost:8080/"
        },
        "outputId": "9ed098ac-6007-46cb-ac41-fa6f1959e448"
      },
      "execution_count": null,
      "outputs": [
        {
          "output_type": "stream",
          "name": "stdout",
          "text": [
            "Total QA pairs: 76427  (contoh 5 teratas)\n",
            "  Q: kapan beyonce mulai populer?\n",
            "  A: pada akhir 1990-an\n",
            "  Q: di bidang apa beyonce bersaing ketika dia tumbuh dewasa?\n",
            "  A: menyanyi dan menari\n",
            "  Q: kapan beyonce meninggalkan destiny's child dan menjadi penyanyi solo?\n",
            "  A: 2003\n",
            "  Q: di kota dan negara bagian manakah beyonce tumbuh?\n",
            "  A: houston, texas\n",
            "  Q: pada dekade berapa beyonce menjadi terkenal?\n",
            "  A: akhir 1990-an\n"
          ]
        }
      ]
    },
    {
      "cell_type": "code",
      "source": [
        "# ============================================================\n",
        "# 4) Tambahkan token khusus untuk target: <sos> dan <eos>\n",
        "# ============================================================\n",
        "SOS_TOKEN = \"<sos>\"\n",
        "EOS_TOKEN = \"<eos>\"\n",
        "\n",
        "src_texts = [src for src, tgt in pairs]\n",
        "tgt_texts = [f\"{SOS_TOKEN} {tgt} {EOS_TOKEN}\" for _, tgt in pairs]   # decoder inputs akan mulai dari <sos>"
      ],
      "metadata": {
        "id": "50dbge99GbOJ"
      },
      "execution_count": null,
      "outputs": []
    },
    {
      "cell_type": "code",
      "source": [
        "# ============================================================\n",
        "# 5) Tokenizer untuk SRC dan TGT (dipisah)\n",
        "# ============================================================\n",
        "MAX_VOCAB_SRC = 20000\n",
        "MAX_VOCAB_TGT = 20000\n",
        "\n",
        "src_tok = Tokenizer(num_words=MAX_VOCAB_SRC, oov_token=\"<oov>\", filters='')\n",
        "tgt_tok = Tokenizer(num_words=MAX_VOCAB_TGT, oov_token=\"<oov>\", filters='')\n",
        "\n",
        "src_tok.fit_on_texts(src_texts)\n",
        "tgt_tok.fit_on_texts(tgt_texts)\n",
        "\n",
        "src_seqs = src_tok.texts_to_sequences(src_texts)\n",
        "tgt_seqs = tgt_tok.texts_to_sequences(tgt_texts)\n",
        "\n",
        "# Panjang maksimal (heuristik: persentil 95)\n",
        "src_lens = [len(s) for s in src_seqs]\n",
        "tgt_lens = [len(s) for s in tgt_seqs]\n",
        "MAX_LEN_SRC = max(5, int(np.percentile(src_lens, 95)))\n",
        "MAX_LEN_TGT = max(7, int(np.percentile(tgt_lens, 95)))  # target biasanya sedikit lebih panjang karena <sos>/<eos>\n",
        "\n",
        "X_enc = pad_sequences(src_seqs, maxlen=MAX_LEN_SRC, padding=\"post\", truncating=\"post\")\n",
        "Y_dec_in = pad_sequences(tgt_seqs, maxlen=MAX_LEN_TGT, padding=\"post\", truncating=\"post\")\n",
        "\n",
        "# Decoder target (teacher forcing) = shift left (tanpa <sos>)\n",
        "Y_shift = np.concatenate([Y_dec_in[:,1:], np.zeros((Y_dec_in.shape[0],1), dtype=int)], axis=1)\n",
        "\n",
        "vocab_size_src = min(MAX_VOCAB_SRC, len(src_tok.word_index) + 1)\n",
        "vocab_size_tgt = min(MAX_VOCAB_TGT, len(tgt_tok.word_index) + 1)\n",
        "\n",
        "print(\"MAX_LEN_SRC =\", MAX_LEN_SRC, \"| MAX_LEN_TGT =\", MAX_LEN_TGT)\n",
        "print(\"vocab_size_src =\", vocab_size_src, \"| vocab_size_tgt =\", vocab_size_tgt)"
      ],
      "metadata": {
        "id": "YbuUsDSJGf-b",
        "colab": {
          "base_uri": "https://localhost:8080/"
        },
        "outputId": "43fe7c87-5bcf-47b3-818a-f21514e44912"
      },
      "execution_count": null,
      "outputs": [
        {
          "output_type": "stream",
          "name": "stdout",
          "text": [
            "MAX_LEN_SRC = 15 | MAX_LEN_TGT = 10\n",
            "vocab_size_src = 10000 | vocab_size_tgt = 10000\n"
          ]
        }
      ]
    },
    {
      "cell_type": "code",
      "source": [
        "# ============================================================\n",
        "# 6) Split Train/Val (random)\n",
        "# ============================================================\n",
        "from sklearn.model_selection import train_test_split\n",
        "\n",
        "X_enc_train, X_enc_val, Y_dec_in_train, Y_dec_in_val, Y_shift_train, Y_shift_val = train_test_split(\n",
        "    X_enc, Y_dec_in, Y_shift, test_size=0.15, random_state=SEED\n",
        ")"
      ],
      "metadata": {
        "id": "GztpCUI1GkKm"
      },
      "execution_count": null,
      "outputs": []
    },
    {
      "cell_type": "code",
      "source": [
        "# ============================================================\n",
        "# 7) Bangun Model Seq2Seq (LSTM Encoder–Decoder)\n",
        "# ============================================================\n",
        "EMB_DIM   = 128\n",
        "RNN_UNITS = 256   # Naikkan sedikit biar decoder lebih stabil\n",
        "LR         = 1e-3\n",
        "\n",
        "# Encoder\n",
        "enc_inputs = Input(shape=(MAX_LEN_SRC,), name=\"enc_inputs\")\n",
        "enc_emb = Embedding(input_dim=vocab_size_src, output_dim=EMB_DIM, name=\"enc_emb\")(enc_inputs)\n",
        "_, state_h, state_c = LSTM(RNN_UNITS, return_state=True, name=\"enc_lstm\")(enc_emb)\n",
        "enc_states = [state_h, state_c]\n",
        "\n",
        "# Decoder\n",
        "dec_inputs = Input(shape=(MAX_LEN_TGT,), name=\"dec_inputs\")\n",
        "dec_emb = Embedding(input_dim=vocab_size_tgt, output_dim=EMB_DIM, name=\"dec_emb\")(dec_inputs)\n",
        "dec_outputs, _, _ = LSTM(RNN_UNITS, return_sequences=True, return_state=True, name=\"dec_lstm\")(dec_emb, initial_state=enc_states)\n",
        "dec_logits = Dense(vocab_size_tgt, activation=\"softmax\", name=\"dec_out\")(dec_outputs)\n",
        "\n",
        "seq2seq = Model([enc_inputs, dec_inputs], dec_logits)\n",
        "seq2seq.compile(optimizer=\"adam\", loss=\"sparse_categorical_crossentropy\")\n",
        "seq2seq.summary()\n",
        "\n",
        "# Target untuk sparse_categorical_crossentropy harus shape (batch, time, 1) atau int tanpa onehot\n",
        "Y_target_train = np.expand_dims(Y_shift_train, axis=-1)\n",
        "Y_target_val   = np.expand_dims(Y_shift_val, axis=-1)"
      ],
      "metadata": {
        "id": "YiUnK7hrGnFh",
        "colab": {
          "base_uri": "https://localhost:8080/",
          "height": 449
        },
        "outputId": "c981eecd-e39f-4e47-8580-0126cd3f6521"
      },
      "execution_count": null,
      "outputs": [
        {
          "output_type": "display_data",
          "data": {
            "text/plain": [
              "\u001b[1mModel: \"functional\"\u001b[0m\n"
            ],
            "text/html": [
              "<pre style=\"white-space:pre;overflow-x:auto;line-height:normal;font-family:Menlo,'DejaVu Sans Mono',consolas,'Courier New',monospace\"><span style=\"font-weight: bold\">Model: \"functional\"</span>\n",
              "</pre>\n"
            ]
          },
          "metadata": {}
        },
        {
          "output_type": "display_data",
          "data": {
            "text/plain": [
              "┏━━━━━━━━━━━━━━━━━━━━━┳━━━━━━━━━━━━━━━━━━━┳━━━━━━━━━━━━┳━━━━━━━━━━━━━━━━━━━┓\n",
              "┃\u001b[1m \u001b[0m\u001b[1mLayer (type)       \u001b[0m\u001b[1m \u001b[0m┃\u001b[1m \u001b[0m\u001b[1mOutput Shape     \u001b[0m\u001b[1m \u001b[0m┃\u001b[1m \u001b[0m\u001b[1m   Param #\u001b[0m\u001b[1m \u001b[0m┃\u001b[1m \u001b[0m\u001b[1mConnected to     \u001b[0m\u001b[1m \u001b[0m┃\n",
              "┡━━━━━━━━━━━━━━━━━━━━━╇━━━━━━━━━━━━━━━━━━━╇━━━━━━━━━━━━╇━━━━━━━━━━━━━━━━━━━┩\n",
              "│ enc_inputs          │ (\u001b[38;5;45mNone\u001b[0m, \u001b[38;5;34m15\u001b[0m)        │          \u001b[38;5;34m0\u001b[0m │ -                 │\n",
              "│ (\u001b[38;5;33mInputLayer\u001b[0m)        │                   │            │                   │\n",
              "├─────────────────────┼───────────────────┼────────────┼───────────────────┤\n",
              "│ dec_inputs          │ (\u001b[38;5;45mNone\u001b[0m, \u001b[38;5;34m10\u001b[0m)        │          \u001b[38;5;34m0\u001b[0m │ -                 │\n",
              "│ (\u001b[38;5;33mInputLayer\u001b[0m)        │                   │            │                   │\n",
              "├─────────────────────┼───────────────────┼────────────┼───────────────────┤\n",
              "│ enc_emb (\u001b[38;5;33mEmbedding\u001b[0m) │ (\u001b[38;5;45mNone\u001b[0m, \u001b[38;5;34m15\u001b[0m, \u001b[38;5;34m128\u001b[0m)   │  \u001b[38;5;34m1,280,000\u001b[0m │ enc_inputs[\u001b[38;5;34m0\u001b[0m][\u001b[38;5;34m0\u001b[0m]  │\n",
              "├─────────────────────┼───────────────────┼────────────┼───────────────────┤\n",
              "│ dec_emb (\u001b[38;5;33mEmbedding\u001b[0m) │ (\u001b[38;5;45mNone\u001b[0m, \u001b[38;5;34m10\u001b[0m, \u001b[38;5;34m128\u001b[0m)   │  \u001b[38;5;34m1,280,000\u001b[0m │ dec_inputs[\u001b[38;5;34m0\u001b[0m][\u001b[38;5;34m0\u001b[0m]  │\n",
              "├─────────────────────┼───────────────────┼────────────┼───────────────────┤\n",
              "│ enc_lstm (\u001b[38;5;33mLSTM\u001b[0m)     │ [(\u001b[38;5;45mNone\u001b[0m, \u001b[38;5;34m256\u001b[0m),     │    \u001b[38;5;34m394,240\u001b[0m │ enc_emb[\u001b[38;5;34m0\u001b[0m][\u001b[38;5;34m0\u001b[0m]     │\n",
              "│                     │ (\u001b[38;5;45mNone\u001b[0m, \u001b[38;5;34m256\u001b[0m),      │            │                   │\n",
              "│                     │ (\u001b[38;5;45mNone\u001b[0m, \u001b[38;5;34m256\u001b[0m)]      │            │                   │\n",
              "├─────────────────────┼───────────────────┼────────────┼───────────────────┤\n",
              "│ dec_lstm (\u001b[38;5;33mLSTM\u001b[0m)     │ [(\u001b[38;5;45mNone\u001b[0m, \u001b[38;5;34m10\u001b[0m, \u001b[38;5;34m256\u001b[0m), │    \u001b[38;5;34m394,240\u001b[0m │ dec_emb[\u001b[38;5;34m0\u001b[0m][\u001b[38;5;34m0\u001b[0m],    │\n",
              "│                     │ (\u001b[38;5;45mNone\u001b[0m, \u001b[38;5;34m256\u001b[0m),      │            │ enc_lstm[\u001b[38;5;34m0\u001b[0m][\u001b[38;5;34m1\u001b[0m],   │\n",
              "│                     │ (\u001b[38;5;45mNone\u001b[0m, \u001b[38;5;34m256\u001b[0m)]      │            │ enc_lstm[\u001b[38;5;34m0\u001b[0m][\u001b[38;5;34m2\u001b[0m]    │\n",
              "├─────────────────────┼───────────────────┼────────────┼───────────────────┤\n",
              "│ dec_out (\u001b[38;5;33mDense\u001b[0m)     │ (\u001b[38;5;45mNone\u001b[0m, \u001b[38;5;34m10\u001b[0m, \u001b[38;5;34m10000\u001b[0m) │  \u001b[38;5;34m2,570,000\u001b[0m │ dec_lstm[\u001b[38;5;34m0\u001b[0m][\u001b[38;5;34m0\u001b[0m]    │\n",
              "└─────────────────────┴───────────────────┴────────────┴───────────────────┘\n"
            ],
            "text/html": [
              "<pre style=\"white-space:pre;overflow-x:auto;line-height:normal;font-family:Menlo,'DejaVu Sans Mono',consolas,'Courier New',monospace\">┏━━━━━━━━━━━━━━━━━━━━━┳━━━━━━━━━━━━━━━━━━━┳━━━━━━━━━━━━┳━━━━━━━━━━━━━━━━━━━┓\n",
              "┃<span style=\"font-weight: bold\"> Layer (type)        </span>┃<span style=\"font-weight: bold\"> Output Shape      </span>┃<span style=\"font-weight: bold\">    Param # </span>┃<span style=\"font-weight: bold\"> Connected to      </span>┃\n",
              "┡━━━━━━━━━━━━━━━━━━━━━╇━━━━━━━━━━━━━━━━━━━╇━━━━━━━━━━━━╇━━━━━━━━━━━━━━━━━━━┩\n",
              "│ enc_inputs          │ (<span style=\"color: #00d7ff; text-decoration-color: #00d7ff\">None</span>, <span style=\"color: #00af00; text-decoration-color: #00af00\">15</span>)        │          <span style=\"color: #00af00; text-decoration-color: #00af00\">0</span> │ -                 │\n",
              "│ (<span style=\"color: #0087ff; text-decoration-color: #0087ff\">InputLayer</span>)        │                   │            │                   │\n",
              "├─────────────────────┼───────────────────┼────────────┼───────────────────┤\n",
              "│ dec_inputs          │ (<span style=\"color: #00d7ff; text-decoration-color: #00d7ff\">None</span>, <span style=\"color: #00af00; text-decoration-color: #00af00\">10</span>)        │          <span style=\"color: #00af00; text-decoration-color: #00af00\">0</span> │ -                 │\n",
              "│ (<span style=\"color: #0087ff; text-decoration-color: #0087ff\">InputLayer</span>)        │                   │            │                   │\n",
              "├─────────────────────┼───────────────────┼────────────┼───────────────────┤\n",
              "│ enc_emb (<span style=\"color: #0087ff; text-decoration-color: #0087ff\">Embedding</span>) │ (<span style=\"color: #00d7ff; text-decoration-color: #00d7ff\">None</span>, <span style=\"color: #00af00; text-decoration-color: #00af00\">15</span>, <span style=\"color: #00af00; text-decoration-color: #00af00\">128</span>)   │  <span style=\"color: #00af00; text-decoration-color: #00af00\">1,280,000</span> │ enc_inputs[<span style=\"color: #00af00; text-decoration-color: #00af00\">0</span>][<span style=\"color: #00af00; text-decoration-color: #00af00\">0</span>]  │\n",
              "├─────────────────────┼───────────────────┼────────────┼───────────────────┤\n",
              "│ dec_emb (<span style=\"color: #0087ff; text-decoration-color: #0087ff\">Embedding</span>) │ (<span style=\"color: #00d7ff; text-decoration-color: #00d7ff\">None</span>, <span style=\"color: #00af00; text-decoration-color: #00af00\">10</span>, <span style=\"color: #00af00; text-decoration-color: #00af00\">128</span>)   │  <span style=\"color: #00af00; text-decoration-color: #00af00\">1,280,000</span> │ dec_inputs[<span style=\"color: #00af00; text-decoration-color: #00af00\">0</span>][<span style=\"color: #00af00; text-decoration-color: #00af00\">0</span>]  │\n",
              "├─────────────────────┼───────────────────┼────────────┼───────────────────┤\n",
              "│ enc_lstm (<span style=\"color: #0087ff; text-decoration-color: #0087ff\">LSTM</span>)     │ [(<span style=\"color: #00d7ff; text-decoration-color: #00d7ff\">None</span>, <span style=\"color: #00af00; text-decoration-color: #00af00\">256</span>),     │    <span style=\"color: #00af00; text-decoration-color: #00af00\">394,240</span> │ enc_emb[<span style=\"color: #00af00; text-decoration-color: #00af00\">0</span>][<span style=\"color: #00af00; text-decoration-color: #00af00\">0</span>]     │\n",
              "│                     │ (<span style=\"color: #00d7ff; text-decoration-color: #00d7ff\">None</span>, <span style=\"color: #00af00; text-decoration-color: #00af00\">256</span>),      │            │                   │\n",
              "│                     │ (<span style=\"color: #00d7ff; text-decoration-color: #00d7ff\">None</span>, <span style=\"color: #00af00; text-decoration-color: #00af00\">256</span>)]      │            │                   │\n",
              "├─────────────────────┼───────────────────┼────────────┼───────────────────┤\n",
              "│ dec_lstm (<span style=\"color: #0087ff; text-decoration-color: #0087ff\">LSTM</span>)     │ [(<span style=\"color: #00d7ff; text-decoration-color: #00d7ff\">None</span>, <span style=\"color: #00af00; text-decoration-color: #00af00\">10</span>, <span style=\"color: #00af00; text-decoration-color: #00af00\">256</span>), │    <span style=\"color: #00af00; text-decoration-color: #00af00\">394,240</span> │ dec_emb[<span style=\"color: #00af00; text-decoration-color: #00af00\">0</span>][<span style=\"color: #00af00; text-decoration-color: #00af00\">0</span>],    │\n",
              "│                     │ (<span style=\"color: #00d7ff; text-decoration-color: #00d7ff\">None</span>, <span style=\"color: #00af00; text-decoration-color: #00af00\">256</span>),      │            │ enc_lstm[<span style=\"color: #00af00; text-decoration-color: #00af00\">0</span>][<span style=\"color: #00af00; text-decoration-color: #00af00\">1</span>],   │\n",
              "│                     │ (<span style=\"color: #00d7ff; text-decoration-color: #00d7ff\">None</span>, <span style=\"color: #00af00; text-decoration-color: #00af00\">256</span>)]      │            │ enc_lstm[<span style=\"color: #00af00; text-decoration-color: #00af00\">0</span>][<span style=\"color: #00af00; text-decoration-color: #00af00\">2</span>]    │\n",
              "├─────────────────────┼───────────────────┼────────────┼───────────────────┤\n",
              "│ dec_out (<span style=\"color: #0087ff; text-decoration-color: #0087ff\">Dense</span>)     │ (<span style=\"color: #00d7ff; text-decoration-color: #00d7ff\">None</span>, <span style=\"color: #00af00; text-decoration-color: #00af00\">10</span>, <span style=\"color: #00af00; text-decoration-color: #00af00\">10000</span>) │  <span style=\"color: #00af00; text-decoration-color: #00af00\">2,570,000</span> │ dec_lstm[<span style=\"color: #00af00; text-decoration-color: #00af00\">0</span>][<span style=\"color: #00af00; text-decoration-color: #00af00\">0</span>]    │\n",
              "└─────────────────────┴───────────────────┴────────────┴───────────────────┘\n",
              "</pre>\n"
            ]
          },
          "metadata": {}
        },
        {
          "output_type": "display_data",
          "data": {
            "text/plain": [
              "\u001b[1m Total params: \u001b[0m\u001b[38;5;34m5,918,480\u001b[0m (22.58 MB)\n"
            ],
            "text/html": [
              "<pre style=\"white-space:pre;overflow-x:auto;line-height:normal;font-family:Menlo,'DejaVu Sans Mono',consolas,'Courier New',monospace\"><span style=\"font-weight: bold\"> Total params: </span><span style=\"color: #00af00; text-decoration-color: #00af00\">5,918,480</span> (22.58 MB)\n",
              "</pre>\n"
            ]
          },
          "metadata": {}
        },
        {
          "output_type": "display_data",
          "data": {
            "text/plain": [
              "\u001b[1m Trainable params: \u001b[0m\u001b[38;5;34m5,918,480\u001b[0m (22.58 MB)\n"
            ],
            "text/html": [
              "<pre style=\"white-space:pre;overflow-x:auto;line-height:normal;font-family:Menlo,'DejaVu Sans Mono',consolas,'Courier New',monospace\"><span style=\"font-weight: bold\"> Trainable params: </span><span style=\"color: #00af00; text-decoration-color: #00af00\">5,918,480</span> (22.58 MB)\n",
              "</pre>\n"
            ]
          },
          "metadata": {}
        },
        {
          "output_type": "display_data",
          "data": {
            "text/plain": [
              "\u001b[1m Non-trainable params: \u001b[0m\u001b[38;5;34m0\u001b[0m (0.00 B)\n"
            ],
            "text/html": [
              "<pre style=\"white-space:pre;overflow-x:auto;line-height:normal;font-family:Menlo,'DejaVu Sans Mono',consolas,'Courier New',monospace\"><span style=\"font-weight: bold\"> Non-trainable params: </span><span style=\"color: #00af00; text-decoration-color: #00af00\">0</span> (0.00 B)\n",
              "</pre>\n"
            ]
          },
          "metadata": {}
        }
      ]
    },
    {
      "cell_type": "code",
      "source": [
        "# ============================================================\n",
        "# 8) Training\n",
        "# ============================================================\n",
        "ckpt_path = f\"{CKPT_DIR}/best_seq2seq_lstm.keras\"\n",
        "callbacks = [\n",
        "    EarlyStopping(monitor=\"val_loss\", patience=5, restore_best_weights=True),\n",
        "    ModelCheckpoint(ckpt_path, monitor=\"val_loss\", save_best_only=True)\n",
        "]\n",
        "\n",
        "history = seq2seq.fit(\n",
        "    [X_enc_train, Y_dec_in_train], Y_target_train,\n",
        "    validation_data=([X_enc_val, Y_dec_in_val], Y_target_val),\n",
        "    epochs=30,\n",
        "    batch_size=32,\n",
        "    callbacks=callbacks,\n",
        "    verbose=1\n",
        ")\n",
        "\n",
        "# (opsional) load best checkpoint\n",
        "seq2seq = tf.keras.models.load_model(ckpt_path)"
      ],
      "metadata": {
        "id": "7JdZAIPrGq_r",
        "colab": {
          "base_uri": "https://localhost:8080/"
        },
        "outputId": "62f3d58f-4712-471e-e03f-6d0b6b9dad77"
      },
      "execution_count": null,
      "outputs": [
        {
          "output_type": "stream",
          "name": "stdout",
          "text": [
            "Epoch 1/30\n",
            "\u001b[1m2031/2031\u001b[0m \u001b[32m━━━━━━━━━━━━━━━━━━━━\u001b[0m\u001b[37m\u001b[0m \u001b[1m1746s\u001b[0m 851ms/step - loss: 2.4354 - val_loss: 1.9692\n",
            "Epoch 2/30\n",
            "\u001b[1m2031/2031\u001b[0m \u001b[32m━━━━━━━━━━━━━━━━━━━━\u001b[0m\u001b[37m\u001b[0m \u001b[1m1935s\u001b[0m 953ms/step - loss: 1.9069 - val_loss: 1.8616\n",
            "Epoch 3/30\n",
            "\u001b[1m2031/2031\u001b[0m \u001b[32m━━━━━━━━━━━━━━━━━━━━\u001b[0m\u001b[37m\u001b[0m \u001b[1m1916s\u001b[0m 940ms/step - loss: 1.7679 - val_loss: 1.8024\n",
            "Epoch 4/30\n",
            "\u001b[1m2031/2031\u001b[0m \u001b[32m━━━━━━━━━━━━━━━━━━━━\u001b[0m\u001b[37m\u001b[0m \u001b[1m1912s\u001b[0m 942ms/step - loss: 1.6501 - val_loss: 1.7826\n",
            "Epoch 5/30\n",
            "\u001b[1m2031/2031\u001b[0m \u001b[32m━━━━━━━━━━━━━━━━━━━━\u001b[0m\u001b[37m\u001b[0m \u001b[1m1880s\u001b[0m 925ms/step - loss: 1.5357 - val_loss: 1.7922\n",
            "Epoch 6/30\n",
            "\u001b[1m2031/2031\u001b[0m \u001b[32m━━━━━━━━━━━━━━━━━━━━\u001b[0m\u001b[37m\u001b[0m \u001b[1m1876s\u001b[0m 923ms/step - loss: 1.4236 - val_loss: 1.8154\n",
            "Epoch 7/30\n",
            "\u001b[1m2031/2031\u001b[0m \u001b[32m━━━━━━━━━━━━━━━━━━━━\u001b[0m\u001b[37m\u001b[0m \u001b[1m1837s\u001b[0m 900ms/step - loss: 1.3168 - val_loss: 1.8556\n",
            "Epoch 8/30\n",
            "\u001b[1m2031/2031\u001b[0m \u001b[32m━━━━━━━━━━━━━━━━━━━━\u001b[0m\u001b[37m\u001b[0m \u001b[1m1773s\u001b[0m 873ms/step - loss: 1.2189 - val_loss: 1.8976\n",
            "Epoch 9/30\n",
            "\u001b[1m2031/2031\u001b[0m \u001b[32m━━━━━━━━━━━━━━━━━━━━\u001b[0m\u001b[37m\u001b[0m \u001b[1m1783s\u001b[0m 878ms/step - loss: 1.1277 - val_loss: 1.9474\n"
          ]
        }
      ]
    },
    {
      "cell_type": "code",
      "source": [
        "# ============================================================\n",
        "# 9) Simpan artefak\n",
        "# ============================================================\n",
        "with open(f\"{ARTIFACT_DIR}/src_tokenizer.pkl\", \"wb\") as f:\n",
        "    pickle.dump(src_tok, f)\n",
        "with open(f\"{ARTIFACT_DIR}/tgt_tokenizer.pkl\", \"wb\") as f:\n",
        "    pickle.dump(tgt_tok, f)\n",
        "\n",
        "meta = dict(\n",
        "    MAX_LEN_SRC=MAX_LEN_SRC,\n",
        "    MAX_LEN_TGT=MAX_LEN_TGT,\n",
        "    SOS_TOKEN=SOS_TOKEN,\n",
        "    EOS_TOKEN=EOS_TOKEN,\n",
        "    vocab_size_src=vocab_size_src,\n",
        "    vocab_size_tgt=vocab_size_tgt,\n",
        "    RNN_UNITS=RNN_UNITS,\n",
        "    EMB_DIM=EMB_DIM\n",
        ")\n",
        "with open(f\"{ARTIFACT_DIR}/meta.json\", \"w\") as f:\n",
        "    json.dump(meta, f, indent=2)\n",
        "\n",
        "seq2seq.save(f\"{ARTIFACT_DIR}/seq2seq_lstm.keras\")\n",
        "print(\"Saved artifacts to:\", ARTIFACT_DIR)"
      ],
      "metadata": {
        "id": "OnKaonvGGu08",
        "colab": {
          "base_uri": "https://localhost:8080/"
        },
        "outputId": "8d91f519-db8b-48f6-a370-0bddc3923bc4"
      },
      "execution_count": null,
      "outputs": [
        {
          "output_type": "stream",
          "name": "stdout",
          "text": [
            "Saved artifacts to: /content/artifacts_seq2seq\n"
          ]
        }
      ]
    },
    {
      "cell_type": "code",
      "source": [
        "# ============================================================\n",
        "# 10) Inference: build encoder_model & decoder_model (greedy)\n",
        "# ============================================================\n",
        "# 10.1 Encoder inference (input -> [h,c])\n",
        "encoder_model = Model(enc_inputs, enc_states)\n",
        "\n",
        "# 10.2 Decoder 1-step (share weights dgn decoder training)\n",
        "dec_state_input_h = Input(shape=(RNN_UNITS,), name=\"dec_state_input_h\")\n",
        "dec_state_input_c = Input(shape=(RNN_UNITS,), name=\"dec_state_input_c\")\n",
        "dec_states_inputs = [dec_state_input_h, dec_state_input_c]\n",
        "dec_inp_step = Input(shape=(1,), name=\"dec_inp_step\")           # 1 token tiap langkah\n",
        "\n",
        "# Reuse embedding & dense layer dari model training\n",
        "dec_emb_layer = seq2seq.get_layer(\"dec_emb\")\n",
        "dec_lstm_layer = seq2seq.get_layer(\"dec_lstm\")\n",
        "dec_out_layer = seq2seq.get_layer(\"dec_out\")\n",
        "\n",
        "# Buat LSTM 1-step untuk inference dan salin bobotnya\n",
        "dec_lstm_step = LSTM(RNN_UNITS, return_state=True, name=\"dec_lstm_step\")\n",
        "# Build agar bisa set_weights (input bentuk (batch, time=1, EMB_DIM))\n",
        "dec_lstm_step.build((None, 1, dec_emb_layer.output_dim))\n",
        "dec_lstm_step.set_weights(dec_lstm_layer.get_weights())\n",
        "\n",
        "# Alur 1-langkah:\n",
        "dec_x = dec_emb_layer(dec_inp_step)                                  # (batch, 1, EMB_DIM)\n",
        "dec_y, dec_h, dec_c = dec_lstm_step(dec_x, initial_state=dec_states_inputs)  # (batch, RNN_UNITS)\n",
        "dec_y_time = Reshape((1, RNN_UNITS))(dec_y)                           # (batch, 1, RNN_UNITS)\n",
        "dec_logits_step = dec_out_layer(dec_y_time)                           # (batch, 1, vocab_tgt)\n",
        "\n",
        "decoder_model = Model([dec_inp_step] + dec_states_inputs, [dec_logits_step, dec_h, dec_c])\n",
        "\n",
        "\n",
        "# 10.3 Helper id token & mapping\n",
        "SOS_ID = tgt_tok.word_index.get(SOS_TOKEN, None)\n",
        "EOS_ID = tgt_tok.word_index.get(EOS_TOKEN, None)\n",
        "if SOS_ID is None or EOS_ID is None:\n",
        "    raise ValueError(\"Token <sos>/<eos> tidak ada di tokenizer target. Cek preprocessing.\")\n",
        "\n",
        "# Mapping id->kata\n",
        "index2word_tgt = tgt_tok.index_word\n",
        "\n",
        "# 10.4 Greedy decoder\n",
        "def greedy_decode(input_text: str, max_len=None):\n",
        "    if max_len is None:\n",
        "        max_len = MAX_LEN_TGT\n",
        "\n",
        "    # Encode sumber -> [h,c]\n",
        "    x = src_tok.texts_to_sequences([clean_text(input_text)])\n",
        "    x = pad_sequences(x, maxlen=MAX_LEN_SRC, padding=\"post\", truncating=\"post\")\n",
        "\n",
        "    states = encoder_model.predict(x, verbose=0)   # returns [h, c]\n",
        "\n",
        "    # Mulai dari <sos>\n",
        "    cur_token = np.array([[SOS_ID]], dtype=\"int32\")\n",
        "    result_ids = []\n",
        "\n",
        "    for _ in range(max_len):\n",
        "        outputs = decoder_model.predict([cur_token] + states, verbose=0)\n",
        "        logits = outputs[0]        # (batch, 1, vocab)\n",
        "        h = outputs[1]\n",
        "        c = outputs[2]\n",
        "\n",
        "        next_id = int(np.argmax(logits[0, 0, :]))\n",
        "\n",
        "        # stop kalau padding/unknown/eos\n",
        "        if next_id == 0 or next_id == EOS_ID:\n",
        "            break\n",
        "\n",
        "        result_ids.append(next_id)\n",
        "        cur_token = np.array([[next_id]], dtype=\"int32\")\n",
        "        states = [h, c]\n",
        "\n",
        "    words = [index2word_tgt.get(idx, \"<unk>\") for idx in result_ids]\n",
        "    return \" \".join(words).strip()"
      ],
      "metadata": {
        "id": "0xqNwVTHGy2F"
      },
      "execution_count": null,
      "outputs": []
    },
    {
      "cell_type": "code",
      "source": [
        "# ============================================================\n",
        "# 11) Evaluasi (Exact Match & BLEU)\n",
        "# ============================================================\n",
        "from nltk.translate.bleu_score import sentence_bleu, SmoothingFunction\n",
        "smooth = SmoothingFunction().method1\n",
        "\n",
        "def evaluate(dataset_pairs, n_samples_eval=200):\n",
        "    refs, hyps = [], []\n",
        "    subset = random.sample(dataset_pairs, k=min(n_samples_eval, len(dataset_pairs)))\n",
        "    for src, tgt in subset:\n",
        "        hyp = greedy_decode(src)\n",
        "        refs.append([tgt.split()])  # list of references (1 ref), tokenized\n",
        "        hyps.append(hyp.split())\n",
        "\n",
        "    exact = sum(1 for r, h in zip(refs, hyps) if \" \".join(r[0]) == \" \".join(h))\n",
        "    exact_acc = exact / len(subset)\n",
        "\n",
        "    bleu1 = np.mean([sentence_bleu(r, h, weights=(1,0,0,0), smoothing_function=smooth) for r,h in zip(refs, hyps)])\n",
        "    bleu2 = np.mean([sentence_bleu(r, h, weights=(0.5,0.5,0,0), smoothing_function=smooth) for r,h in zip(refs, hyps)])\n",
        "    bleu4 = np.mean([sentence_bleu(r, h, weights=(0.25,0.25,0.25,0.25), smoothing_function=smooth) for r,h in zip(refs, hyps)])\n",
        "\n",
        "    return dict(exact_match=exact_acc, bleu1=bleu1, bleu2=bleu2, bleu4=bleu4)\n",
        "\n",
        "pairs_clean_tgt = [(src, clean_text(tgt)) for (src, tgt) in [(p[0], p[1]) for p in pairs]]\n",
        "\n",
        "metrics = evaluate(pairs_clean_tgt, n_samples_eval=200)\n",
        "print(\"Eval (subset):\", metrics)"
      ],
      "metadata": {
        "id": "lIHYhPz3G8BN",
        "colab": {
          "base_uri": "https://localhost:8080/"
        },
        "outputId": "b126ea70-2d83-4060-c88f-8ee42be08494"
      },
      "execution_count": null,
      "outputs": [
        {
          "output_type": "stream",
          "name": "stdout",
          "text": [
            "Eval (subset): {'exact_match': 0.0, 'bleu1': np.float64(0.0037912956053197627), 'bleu2': np.float64(0.0013228353251744907), 'bleu4': np.float64(0.0009567653754246697)}\n"
          ]
        }
      ]
    },
    {
      "cell_type": "code",
      "source": [
        "# ============================================================\n",
        "# 12) Demo cepat\n",
        "# ============================================================\n",
        "tests = [\n",
        "    \"kapan beyonce mulai terkenal?\",\n",
        "    \"siapa manajer destiny's child?\",\n",
        "    \"apa album solo pertama beyonce?\",\n",
        "    \"siapa suami beyonce?\",\n",
        "]\n",
        "for q in tests:\n",
        "    ans = greedy_decode(q)\n",
        "    print(f\"Q: {q}\\nA: {ans}\\n\")"
      ],
      "metadata": {
        "id": "i9H8zx1yG_fv",
        "colab": {
          "base_uri": "https://localhost:8080/"
        },
        "outputId": "5f97eed1-91c0-44dd-b87f-ae388dbf16c1"
      },
      "execution_count": null,
      "outputs": [
        {
          "output_type": "stream",
          "name": "stdout",
          "text": [
            "Q: kapan beyonce mulai terkenal?\n",
            "A: <oov>\n",
            "\n",
            "Q: siapa manajer destiny's child?\n",
            "A: <oov> <oov>\n",
            "\n",
            "Q: apa album solo pertama beyonce?\n",
            "A: <oov> <oov>\n",
            "\n",
            "Q: siapa suami beyonce?\n",
            "A: <oov> <oov>\n",
            "\n"
          ]
        }
      ]
    },
    {
      "cell_type": "code",
      "source": [
        "# ================================\n",
        "# UI Chat Box (Seq2Seq - ipywidgets)\n",
        "# ================================\n",
        "\n",
        "# 1) Pastikan widget manager aktif\n",
        "try:\n",
        "    from google.colab import output as colab_output\n",
        "    colab_output.enable_custom_widget_manager()\n",
        "except Exception:\n",
        "    pass\n",
        "\n",
        "try:\n",
        "    import ipywidgets as widgets\n",
        "    from IPython.display import display, HTML, clear_output\n",
        "except Exception:\n",
        "    !pip -q install ipywidgets==8.1.1\n",
        "    import ipywidgets as widgets\n",
        "    from IPython.display import display, HTML, clear_output\n",
        "    from google.colab import output as colab_output\n",
        "    colab_output.enable_custom_widget_manager()\n",
        "\n",
        "# 2) Komponen UI\n",
        "input_box = widgets.Text(\n",
        "    placeholder='Ketik pertanyaanmu di sini...',\n",
        "    description='User:',\n",
        "    layout=widgets.Layout(width='100%')\n",
        ")\n",
        "send_btn = widgets.Button(\n",
        "    description='Kirim',\n",
        "    button_style='primary',\n",
        "    tooltip='Kirim pesan',\n",
        "    layout=widgets.Layout(width='120px')\n",
        ")\n",
        "clear_btn = widgets.Button(\n",
        "    description='Bersihkan',\n",
        "    tooltip='Hapus riwayat',\n",
        "    layout=widgets.Layout(width='120px')\n",
        ")\n",
        "status_lbl = widgets.Label(value='Siap ✅')\n",
        "\n",
        "chat_output = widgets.Output(layout=widgets.Layout(\n",
        "    border='1px solid #ddd', padding='10px', height='350px', overflow='auto'\n",
        "))\n",
        "\n",
        "controls = widgets.HBox([send_btn, clear_btn, status_lbl])\n",
        "ui = widgets.VBox([input_box, controls, chat_output])\n",
        "\n",
        "# 3) State riwayat percakapan (tanpa intent/conf)\n",
        "history = []  # list of (role, text)\n",
        "\n",
        "def render_history():\n",
        "    with chat_output:\n",
        "        clear_output()\n",
        "        html = ['<div style=\"font-family: Inter, system-ui, Arial; font-size:14px\">']\n",
        "        for role, text in history:\n",
        "            if role == 'user':\n",
        "                html.append(f'''\n",
        "                <div style=\"margin:8px 0;\">\n",
        "                    <div style=\"font-weight:600;color:#1a73e8\">Kamu:</div>\n",
        "                    <div style=\"white-space:pre-wrap\">{text}</div>\n",
        "                </div>''')\n",
        "            else:\n",
        "                html.append(f'''\n",
        "                <div style=\"margin:8px 0;\">\n",
        "                    <div style=\"font-weight:600;color:#34a853\">Bot:</div>\n",
        "                    <div style=\"white-space:pre-wrap\">{text}</div>\n",
        "                </div>''')\n",
        "        html.append('</div>')\n",
        "        display(HTML(''.join(html)))\n",
        "\n",
        "# 4) Handler kirim (pakai greedy_decode dari model Seq2Seq)\n",
        "def handle_send(_=None):\n",
        "    msg = input_box.value.strip()\n",
        "    if not msg:\n",
        "        status_lbl.value = \"Ketik sesuatu dulu…\"\n",
        "        return\n",
        "    status_lbl.value = \"Memproses… ⏳\"\n",
        "    history.append(('user', msg))\n",
        "    try:\n",
        "        ans = greedy_decode(msg)  # <— PENTING: pakai seq2seq\n",
        "        if not ans:\n",
        "            ans = \"(maaf, belum bisa menjawab)\"\n",
        "        history.append(('bot', ans))\n",
        "    except Exception as e:\n",
        "        history.append(('bot', f\"Terjadi error: {e}\"))\n",
        "    render_history()\n",
        "    input_box.value = ''\n",
        "    status_lbl.value = \"Siap ✅\"\n",
        "\n",
        "# 5) Handler clear\n",
        "def handle_clear(_=None):\n",
        "    history.clear()\n",
        "    render_history()\n",
        "    status_lbl.value = \"Riwayat dibersihkan 🧹\"\n",
        "\n",
        "# 6) Event bindings\n",
        "send_btn.on_click(handle_send)\n",
        "clear_btn.on_click(handle_clear)\n",
        "input_box.on_submit(handle_send)  # tekan Enter untuk kirim\n",
        "\n",
        "# 7) Tampilkan UI\n",
        "render_history()\n",
        "display(ui)"
      ],
      "metadata": {
        "id": "N_titPHyHDer",
        "colab": {
          "base_uri": "https://localhost:8080/",
          "height": 463,
          "referenced_widgets": [
            "8c187b867f034a11895b4f756ff4ef42",
            "74a4077ed0614e9bbcb27b414734538b",
            "b93d47e450c54f4aabbca95b670cc7c7",
            "cd75e09a0f624813870f31dd240eb4eb",
            "9df75ec2b9044f7ca9fa71a309bc0760",
            "74b85559d1a841458bcae2c9890ca2ae",
            "d1c21870cd4b4f57bed3ebad4908f524",
            "ce243312c7c8428eb8870bf71a98afef",
            "26094002cf45406e94157696eec50f86",
            "1d59bcddae1e42f58f755cd0059ae0be",
            "d4c5c621d2314c3981fe32a6e2fdcb0e",
            "9b6c5892d96942fc8414cb6785aa0ff1",
            "97c4d0b4e74540b695e47b57c5035ce3",
            "0651b358400f4c519b03fb9bd6fc51f6",
            "a59e1d83f3084533a8bf3b31b62fea01",
            "e00538fa3dd2471fb3e47310ca9d31e2",
            "37fc7dbd5a244cdc802b371071b23a2d",
            "ec42d7be0d1f4788b682762132b99b9f"
          ]
        },
        "outputId": "f6440dfa-3d86-4360-c793-6588891bc265"
      },
      "execution_count": null,
      "outputs": [
        {
          "output_type": "display_data",
          "data": {
            "text/plain": [
              "VBox(children=(Text(value='', description='User:', layout=Layout(width='100%'), placeholder='Ketik pertanyaanm…"
            ],
            "application/vnd.jupyter.widget-view+json": {
              "version_major": 2,
              "version_minor": 0,
              "model_id": "8c187b867f034a11895b4f756ff4ef42"
            }
          },
          "metadata": {
            "application/vnd.jupyter.widget-view+json": {
              "colab": {
                "custom_widget_manager": {
                  "url": "https://ssl.gstatic.com/colaboratory-static/widgets/colab-cdn-widget-manager/2b70e893a8ba7c0f/manager.min.js"
                }
              }
            }
          }
        }
      ]
    }
  ]
}