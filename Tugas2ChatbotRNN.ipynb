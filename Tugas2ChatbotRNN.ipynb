{
  "cells": [
    {
      "cell_type": "markdown",
      "source": [
        "## Model Seq2Seq"
      ],
      "metadata": {
        "id": "4wKNPEEcbFcQ"
      }
    },
    {
      "cell_type": "code",
      "source": [
        "# ============================================================\n",
        "# Chatbot Seq2Seq — SimpleRNN (Keras, Colab-ready)\n",
        "# Dataset: /content/drive/MyDrive/Semester 7/NLP/train-SQuAD-id.json\n",
        "#  - Encoder: SimpleRNN\n",
        "#  - Decoder: SimpleRNN (teacher forcing)\n",
        "#  - Evaluasi: Exact Match, BLEU-1/2/4\n",
        "# ============================================================\n",
        "\n",
        "import os, re, json, random, pickle, numpy as np\n",
        "from pathlib import Path\n",
        "\n",
        "# ---- 0) Colab: Mount Google Drive ----\n",
        "from google.colab import drive\n",
        "drive.mount('/content/drive')"
      ],
      "metadata": {
        "colab": {
          "base_uri": "https://localhost:8080/"
        },
        "id": "aGzcoPRnUdXP",
        "outputId": "67f01194-6ada-410f-f0c6-e3861cee2910"
      },
      "execution_count": 5,
      "outputs": [
        {
          "output_type": "stream",
          "name": "stdout",
          "text": [
            "Drive already mounted at /content/drive; to attempt to forcibly remount, call drive.mount(\"/content/drive\", force_remount=True).\n"
          ]
        }
      ]
    },
    {
      "cell_type": "code",
      "source": [
        "# (opsional) BLEU evaluator\n",
        "!pip -q install nltk\n",
        "import nltk\n",
        "nltk.download('punkt', quiet=True)\n",
        "\n",
        "# ---- 1) Konfigurasi umum ----\n",
        "SEED = 42\n",
        "random.seed(SEED); np.random.seed(SEED)\n",
        "\n",
        "DATA_PATH    = \"/content/drive/MyDrive/Semester 7/NLP/train-SQuAD-id.json\"\n",
        "ARTIFACT_DIR = \"/content/artifacts_seq2seq\"\n",
        "CKPT_DIR     = \"/content/checkpoints_seq2seq\"\n",
        "os.makedirs(ARTIFACT_DIR, exist_ok=True)\n",
        "os.makedirs(CKPT_DIR, exist_ok=True)"
      ],
      "metadata": {
        "id": "r2b6Anu9VE0V"
      },
      "execution_count": 6,
      "outputs": []
    },
    {
      "cell_type": "code",
      "source": [
        "# ---- 2) TensorFlow & Keras (pakai versi yang ada di Colab) ----\n",
        "import tensorflow as tf\n",
        "tf.random.set_seed(SEED)\n",
        "print(\"TF version:\", tf.__version__)\n",
        "\n",
        "from tensorflow.keras.preprocessing.text import Tokenizer\n",
        "from tensorflow.keras.preprocessing.sequence import pad_sequences\n",
        "from tensorflow.keras.models import Model\n",
        "from tensorflow.keras.layers import Input, Embedding, SimpleRNN, Dense\n",
        "from tensorflow.keras.callbacks import EarlyStopping, ModelCheckpoint"
      ],
      "metadata": {
        "colab": {
          "base_uri": "https://localhost:8080/"
        },
        "id": "oHr_eWdXVIUM",
        "outputId": "b6197d88-0ac5-454e-e0b8-7bc71aa7bf5f"
      },
      "execution_count": 7,
      "outputs": [
        {
          "output_type": "stream",
          "name": "stdout",
          "text": [
            "TF version: 2.19.0\n"
          ]
        }
      ]
    },
    {
      "cell_type": "code",
      "source": [
        "# ============================================================\n",
        "# 3) Load dataset SQuAD-ID -> Buat pasangan (src, tgt)\n",
        "#     src = question (ID), tgt = answer_text (ID)\n",
        "# ============================================================\n",
        "with open(DATA_PATH, \"r\", encoding=\"utf-8\") as f:\n",
        "    raw = json.load(f)\n",
        "\n",
        "pairs = []   # (src_text, tgt_text)\n",
        "\n",
        "def clean_text(s: str) -> str:\n",
        "    s = s.lower()\n",
        "    s = re.sub(r\"[^a-z0-9\\sÀ-ÿ',?.!/-]\", \" \", s)\n",
        "    s = re.sub(r\"\\s+\", \" \", s).strip()\n",
        "    return s\n",
        "\n",
        "for art in raw.get(\"data\", []):\n",
        "    for para in art.get(\"paragraphs\", []):\n",
        "        for qa in para.get(\"qas\", []):\n",
        "            # buang QA yang impossible atau tanpa jawaban\n",
        "            if qa.get(\"is_impossible\", False):\n",
        "                continue\n",
        "            answers = qa.get(\"answers\", [])\n",
        "            if not answers:\n",
        "                continue\n",
        "            q_text = qa.get(\"question\", \"\").strip()\n",
        "            a_text = answers[0].get(\"text\", \"\").strip()  # ambil jawaban pertama\n",
        "\n",
        "            q_clean = clean_text(q_text)\n",
        "            a_clean = clean_text(a_text)\n",
        "            if q_clean and a_clean:\n",
        "                pairs.append((q_clean, a_clean))\n",
        "\n",
        "if not pairs:\n",
        "    raise ValueError(\"Tidak ada pasangan (question, answer) yang valid dari SQuAD-ID.\")\n",
        "\n",
        "print(f\"Total pairs (SQuAD-ID): {len(pairs)}  (contoh 3 teratas)\")\n",
        "for i in range(min(3, len(pairs))):\n",
        "    print(\"  Q :\", pairs[i][0])\n",
        "    print(\"  A :\", pairs[i][1])"
      ],
      "metadata": {
        "colab": {
          "base_uri": "https://localhost:8080/"
        },
        "id": "1H2UJ5bKVJZQ",
        "outputId": "33d552be-eb84-44b7-9ebd-357b5798065a"
      },
      "execution_count": 8,
      "outputs": [
        {
          "output_type": "stream",
          "name": "stdout",
          "text": [
            "Total pairs (SQuAD-ID): 76427  (contoh 3 teratas)\n",
            "  Q : kapan beyonce mulai populer?\n",
            "  A : pada akhir 1990-an\n",
            "  Q : di bidang apa beyonce bersaing ketika dia tumbuh dewasa?\n",
            "  A : menyanyi dan menari\n",
            "  Q : kapan beyonce meninggalkan destiny's child dan menjadi penyanyi solo?\n",
            "  A : 2003\n"
          ]
        }
      ]
    },
    {
      "cell_type": "code",
      "source": [
        "# ============================================================\n",
        "# 4) Tambahkan token khusus untuk target: <sos> dan <eos>\n",
        "# ============================================================\n",
        "SOS_TOKEN = \"<sos>\"\n",
        "EOS_TOKEN = \"<eos>\"\n",
        "\n",
        "src_texts = [src for src, tgt in pairs]\n",
        "tgt_texts = [f\"{SOS_TOKEN} {tgt} {EOS_TOKEN}\" for _, tgt in pairs]   # decoder inputs akan mulai dari <sos>"
      ],
      "metadata": {
        "id": "20kOAPjBVNQm"
      },
      "execution_count": 9,
      "outputs": []
    },
    {
      "cell_type": "code",
      "source": [
        "# ============================================================\n",
        "# 5) Tokenizer untuk SRC dan TGT (dipisah) + cap panjang\n",
        "# ============================================================\n",
        "MAX_VOCAB_SRC = 10000\n",
        "MAX_VOCAB_TGT = 10000\n",
        "\n",
        "src_tok = Tokenizer(num_words=MAX_VOCAB_SRC, oov_token=\"<oov>\", filters='')\n",
        "tgt_tok = Tokenizer(num_words=MAX_VOCAB_TGT, oov_token=\"<oov>\", filters='')\n",
        "\n",
        "src_tok.fit_on_texts([src for src, _ in pairs])\n",
        "tgt_tok.fit_on_texts([f\"<sos> {tgt} <eos>\" for _, tgt in pairs])\n",
        "\n",
        "src_seqs = src_tok.texts_to_sequences([src for src, _ in pairs])\n",
        "tgt_seqs = tgt_tok.texts_to_sequences([f\"<sos> {tgt} <eos>\" for _, tgt in pairs])\n",
        "\n",
        "src_lens = [len(s) for s in src_seqs]\n",
        "tgt_lens = [len(s) for s in tgt_seqs]\n",
        "# cap panjang agar training stabil (Q biasanya > A)\n",
        "MAX_LEN_SRC = min(64, max(5, int(np.percentile(src_lens, 95))))\n",
        "MAX_LEN_TGT = min(24, max(7, int(np.percentile(tgt_lens, 95))))\n",
        "\n",
        "X_enc   = pad_sequences(src_seqs, maxlen=MAX_LEN_SRC, padding=\"post\", truncating=\"post\")\n",
        "Y_dec_in = pad_sequences(tgt_seqs, maxlen=MAX_LEN_TGT, padding=\"post\", truncating=\"post\")\n",
        "Y_shift  = np.concatenate([Y_dec_in[:,1:], np.zeros((Y_dec_in.shape[0],1), dtype=int)], axis=1)\n",
        "\n",
        "vocab_size_src = min(MAX_VOCAB_SRC, len(src_tok.word_index) + 1)\n",
        "vocab_size_tgt = min(MAX_VOCAB_TGT, len(tgt_tok.word_index) + 1)\n",
        "\n",
        "print(\"MAX_LEN_SRC =\", MAX_LEN_SRC, \"| MAX_LEN_TGT =\", MAX_LEN_TGT)\n",
        "print(\"vocab_size_src =\", vocab_size_src, \"| vocab_size_tgt =\", vocab_size_tgt)"
      ],
      "metadata": {
        "colab": {
          "base_uri": "https://localhost:8080/"
        },
        "id": "6BA6xfIpVOXe",
        "outputId": "748d56e1-38ce-4f7f-9f56-2d81d0f1f2ab"
      },
      "execution_count": 10,
      "outputs": [
        {
          "output_type": "stream",
          "name": "stdout",
          "text": [
            "MAX_LEN_SRC = 15 | MAX_LEN_TGT = 10\n",
            "vocab_size_src = 10000 | vocab_size_tgt = 10000\n"
          ]
        }
      ]
    },
    {
      "cell_type": "code",
      "source": [
        "# ============================================================\n",
        "# 6) Split Train/Val (random)\n",
        "# ============================================================\n",
        "from sklearn.model_selection import train_test_split\n",
        "\n",
        "X_enc_train, X_enc_val, Y_dec_in_train, Y_dec_in_val, Y_shift_train, Y_shift_val = train_test_split(\n",
        "    X_enc, Y_dec_in, Y_shift, test_size=0.15, random_state=SEED\n",
        ")"
      ],
      "metadata": {
        "id": "aS-IecTjVQ1i"
      },
      "execution_count": 11,
      "outputs": []
    },
    {
      "cell_type": "code",
      "source": [
        "# ============================================================\n",
        "# 7) Bangun Model Seq2Seq (SimpleRNN Encoder–Decoder) + dropout\n",
        "# ============================================================\n",
        "EMB_DIM   = 128\n",
        "RNN_UNITS = 256\n",
        "LR        = 5e-4  # sedikit lebih kecil agar stabil\n",
        "\n",
        "# Encoder\n",
        "enc_inputs = Input(shape=(MAX_LEN_SRC,), name=\"enc_inputs\")\n",
        "enc_emb = Embedding(input_dim=vocab_size_src, output_dim=EMB_DIM, name=\"enc_emb\")(enc_inputs)\n",
        "_, enc_state = SimpleRNN(RNN_UNITS, return_state=True, dropout=0.1, name=\"enc_rnn\")(enc_emb)\n",
        "\n",
        "# Decoder\n",
        "dec_inputs = Input(shape=(MAX_LEN_TGT,), name=\"dec_inputs\")\n",
        "dec_emb = Embedding(input_dim=vocab_size_tgt, output_dim=EMB_DIM, name=\"dec_emb\")(dec_inputs)\n",
        "dec_outputs = SimpleRNN(RNN_UNITS, return_sequences=True, dropout=0.1, name=\"dec_rnn\")(dec_emb, initial_state=enc_state)\n",
        "dec_logits = Dense(vocab_size_tgt, activation=\"softmax\", name=\"dec_out\")(dec_outputs)\n",
        "\n",
        "seq2seq = Model([enc_inputs, dec_inputs], dec_logits)\n",
        "seq2seq.compile(optimizer=tf.keras.optimizers.Adam(LR), loss=\"sparse_categorical_crossentropy\")\n",
        "seq2seq.summary()\n",
        "\n",
        "Y_target_train = np.expand_dims(Y_shift_train, axis=-1)\n",
        "Y_target_val   = np.expand_dims(Y_shift_val, axis=-1)"
      ],
      "metadata": {
        "colab": {
          "base_uri": "https://localhost:8080/",
          "height": 442
        },
        "id": "KUoJks9pVTXQ",
        "outputId": "c443a531-0fb7-4698-89a5-0148ab6fee76"
      },
      "execution_count": 12,
      "outputs": [
        {
          "output_type": "display_data",
          "data": {
            "text/plain": [
              "\u001b[1mModel: \"functional\"\u001b[0m\n"
            ],
            "text/html": [
              "<pre style=\"white-space:pre;overflow-x:auto;line-height:normal;font-family:Menlo,'DejaVu Sans Mono',consolas,'Courier New',monospace\"><span style=\"font-weight: bold\">Model: \"functional\"</span>\n",
              "</pre>\n"
            ]
          },
          "metadata": {}
        },
        {
          "output_type": "display_data",
          "data": {
            "text/plain": [
              "┏━━━━━━━━━━━━━━━━━━━━━┳━━━━━━━━━━━━━━━━━━━┳━━━━━━━━━━━━┳━━━━━━━━━━━━━━━━━━━┓\n",
              "┃\u001b[1m \u001b[0m\u001b[1mLayer (type)       \u001b[0m\u001b[1m \u001b[0m┃\u001b[1m \u001b[0m\u001b[1mOutput Shape     \u001b[0m\u001b[1m \u001b[0m┃\u001b[1m \u001b[0m\u001b[1m   Param #\u001b[0m\u001b[1m \u001b[0m┃\u001b[1m \u001b[0m\u001b[1mConnected to     \u001b[0m\u001b[1m \u001b[0m┃\n",
              "┡━━━━━━━━━━━━━━━━━━━━━╇━━━━━━━━━━━━━━━━━━━╇━━━━━━━━━━━━╇━━━━━━━━━━━━━━━━━━━┩\n",
              "│ enc_inputs          │ (\u001b[38;5;45mNone\u001b[0m, \u001b[38;5;34m15\u001b[0m)        │          \u001b[38;5;34m0\u001b[0m │ -                 │\n",
              "│ (\u001b[38;5;33mInputLayer\u001b[0m)        │                   │            │                   │\n",
              "├─────────────────────┼───────────────────┼────────────┼───────────────────┤\n",
              "│ dec_inputs          │ (\u001b[38;5;45mNone\u001b[0m, \u001b[38;5;34m10\u001b[0m)        │          \u001b[38;5;34m0\u001b[0m │ -                 │\n",
              "│ (\u001b[38;5;33mInputLayer\u001b[0m)        │                   │            │                   │\n",
              "├─────────────────────┼───────────────────┼────────────┼───────────────────┤\n",
              "│ enc_emb (\u001b[38;5;33mEmbedding\u001b[0m) │ (\u001b[38;5;45mNone\u001b[0m, \u001b[38;5;34m15\u001b[0m, \u001b[38;5;34m128\u001b[0m)   │  \u001b[38;5;34m1,280,000\u001b[0m │ enc_inputs[\u001b[38;5;34m0\u001b[0m][\u001b[38;5;34m0\u001b[0m]  │\n",
              "├─────────────────────┼───────────────────┼────────────┼───────────────────┤\n",
              "│ dec_emb (\u001b[38;5;33mEmbedding\u001b[0m) │ (\u001b[38;5;45mNone\u001b[0m, \u001b[38;5;34m10\u001b[0m, \u001b[38;5;34m128\u001b[0m)   │  \u001b[38;5;34m1,280,000\u001b[0m │ dec_inputs[\u001b[38;5;34m0\u001b[0m][\u001b[38;5;34m0\u001b[0m]  │\n",
              "├─────────────────────┼───────────────────┼────────────┼───────────────────┤\n",
              "│ enc_rnn (\u001b[38;5;33mSimpleRNN\u001b[0m) │ [(\u001b[38;5;45mNone\u001b[0m, \u001b[38;5;34m256\u001b[0m),     │     \u001b[38;5;34m98,560\u001b[0m │ enc_emb[\u001b[38;5;34m0\u001b[0m][\u001b[38;5;34m0\u001b[0m]     │\n",
              "│                     │ (\u001b[38;5;45mNone\u001b[0m, \u001b[38;5;34m256\u001b[0m)]      │            │                   │\n",
              "├─────────────────────┼───────────────────┼────────────┼───────────────────┤\n",
              "│ dec_rnn (\u001b[38;5;33mSimpleRNN\u001b[0m) │ (\u001b[38;5;45mNone\u001b[0m, \u001b[38;5;34m10\u001b[0m, \u001b[38;5;34m256\u001b[0m)   │     \u001b[38;5;34m98,560\u001b[0m │ dec_emb[\u001b[38;5;34m0\u001b[0m][\u001b[38;5;34m0\u001b[0m],    │\n",
              "│                     │                   │            │ enc_rnn[\u001b[38;5;34m0\u001b[0m][\u001b[38;5;34m1\u001b[0m]     │\n",
              "├─────────────────────┼───────────────────┼────────────┼───────────────────┤\n",
              "│ dec_out (\u001b[38;5;33mDense\u001b[0m)     │ (\u001b[38;5;45mNone\u001b[0m, \u001b[38;5;34m10\u001b[0m, \u001b[38;5;34m10000\u001b[0m) │  \u001b[38;5;34m2,570,000\u001b[0m │ dec_rnn[\u001b[38;5;34m0\u001b[0m][\u001b[38;5;34m0\u001b[0m]     │\n",
              "└─────────────────────┴───────────────────┴────────────┴───────────────────┘\n"
            ],
            "text/html": [
              "<pre style=\"white-space:pre;overflow-x:auto;line-height:normal;font-family:Menlo,'DejaVu Sans Mono',consolas,'Courier New',monospace\">┏━━━━━━━━━━━━━━━━━━━━━┳━━━━━━━━━━━━━━━━━━━┳━━━━━━━━━━━━┳━━━━━━━━━━━━━━━━━━━┓\n",
              "┃<span style=\"font-weight: bold\"> Layer (type)        </span>┃<span style=\"font-weight: bold\"> Output Shape      </span>┃<span style=\"font-weight: bold\">    Param # </span>┃<span style=\"font-weight: bold\"> Connected to      </span>┃\n",
              "┡━━━━━━━━━━━━━━━━━━━━━╇━━━━━━━━━━━━━━━━━━━╇━━━━━━━━━━━━╇━━━━━━━━━━━━━━━━━━━┩\n",
              "│ enc_inputs          │ (<span style=\"color: #00d7ff; text-decoration-color: #00d7ff\">None</span>, <span style=\"color: #00af00; text-decoration-color: #00af00\">15</span>)        │          <span style=\"color: #00af00; text-decoration-color: #00af00\">0</span> │ -                 │\n",
              "│ (<span style=\"color: #0087ff; text-decoration-color: #0087ff\">InputLayer</span>)        │                   │            │                   │\n",
              "├─────────────────────┼───────────────────┼────────────┼───────────────────┤\n",
              "│ dec_inputs          │ (<span style=\"color: #00d7ff; text-decoration-color: #00d7ff\">None</span>, <span style=\"color: #00af00; text-decoration-color: #00af00\">10</span>)        │          <span style=\"color: #00af00; text-decoration-color: #00af00\">0</span> │ -                 │\n",
              "│ (<span style=\"color: #0087ff; text-decoration-color: #0087ff\">InputLayer</span>)        │                   │            │                   │\n",
              "├─────────────────────┼───────────────────┼────────────┼───────────────────┤\n",
              "│ enc_emb (<span style=\"color: #0087ff; text-decoration-color: #0087ff\">Embedding</span>) │ (<span style=\"color: #00d7ff; text-decoration-color: #00d7ff\">None</span>, <span style=\"color: #00af00; text-decoration-color: #00af00\">15</span>, <span style=\"color: #00af00; text-decoration-color: #00af00\">128</span>)   │  <span style=\"color: #00af00; text-decoration-color: #00af00\">1,280,000</span> │ enc_inputs[<span style=\"color: #00af00; text-decoration-color: #00af00\">0</span>][<span style=\"color: #00af00; text-decoration-color: #00af00\">0</span>]  │\n",
              "├─────────────────────┼───────────────────┼────────────┼───────────────────┤\n",
              "│ dec_emb (<span style=\"color: #0087ff; text-decoration-color: #0087ff\">Embedding</span>) │ (<span style=\"color: #00d7ff; text-decoration-color: #00d7ff\">None</span>, <span style=\"color: #00af00; text-decoration-color: #00af00\">10</span>, <span style=\"color: #00af00; text-decoration-color: #00af00\">128</span>)   │  <span style=\"color: #00af00; text-decoration-color: #00af00\">1,280,000</span> │ dec_inputs[<span style=\"color: #00af00; text-decoration-color: #00af00\">0</span>][<span style=\"color: #00af00; text-decoration-color: #00af00\">0</span>]  │\n",
              "├─────────────────────┼───────────────────┼────────────┼───────────────────┤\n",
              "│ enc_rnn (<span style=\"color: #0087ff; text-decoration-color: #0087ff\">SimpleRNN</span>) │ [(<span style=\"color: #00d7ff; text-decoration-color: #00d7ff\">None</span>, <span style=\"color: #00af00; text-decoration-color: #00af00\">256</span>),     │     <span style=\"color: #00af00; text-decoration-color: #00af00\">98,560</span> │ enc_emb[<span style=\"color: #00af00; text-decoration-color: #00af00\">0</span>][<span style=\"color: #00af00; text-decoration-color: #00af00\">0</span>]     │\n",
              "│                     │ (<span style=\"color: #00d7ff; text-decoration-color: #00d7ff\">None</span>, <span style=\"color: #00af00; text-decoration-color: #00af00\">256</span>)]      │            │                   │\n",
              "├─────────────────────┼───────────────────┼────────────┼───────────────────┤\n",
              "│ dec_rnn (<span style=\"color: #0087ff; text-decoration-color: #0087ff\">SimpleRNN</span>) │ (<span style=\"color: #00d7ff; text-decoration-color: #00d7ff\">None</span>, <span style=\"color: #00af00; text-decoration-color: #00af00\">10</span>, <span style=\"color: #00af00; text-decoration-color: #00af00\">256</span>)   │     <span style=\"color: #00af00; text-decoration-color: #00af00\">98,560</span> │ dec_emb[<span style=\"color: #00af00; text-decoration-color: #00af00\">0</span>][<span style=\"color: #00af00; text-decoration-color: #00af00\">0</span>],    │\n",
              "│                     │                   │            │ enc_rnn[<span style=\"color: #00af00; text-decoration-color: #00af00\">0</span>][<span style=\"color: #00af00; text-decoration-color: #00af00\">1</span>]     │\n",
              "├─────────────────────┼───────────────────┼────────────┼───────────────────┤\n",
              "│ dec_out (<span style=\"color: #0087ff; text-decoration-color: #0087ff\">Dense</span>)     │ (<span style=\"color: #00d7ff; text-decoration-color: #00d7ff\">None</span>, <span style=\"color: #00af00; text-decoration-color: #00af00\">10</span>, <span style=\"color: #00af00; text-decoration-color: #00af00\">10000</span>) │  <span style=\"color: #00af00; text-decoration-color: #00af00\">2,570,000</span> │ dec_rnn[<span style=\"color: #00af00; text-decoration-color: #00af00\">0</span>][<span style=\"color: #00af00; text-decoration-color: #00af00\">0</span>]     │\n",
              "└─────────────────────┴───────────────────┴────────────┴───────────────────┘\n",
              "</pre>\n"
            ]
          },
          "metadata": {}
        },
        {
          "output_type": "display_data",
          "data": {
            "text/plain": [
              "\u001b[1m Total params: \u001b[0m\u001b[38;5;34m5,327,120\u001b[0m (20.32 MB)\n"
            ],
            "text/html": [
              "<pre style=\"white-space:pre;overflow-x:auto;line-height:normal;font-family:Menlo,'DejaVu Sans Mono',consolas,'Courier New',monospace\"><span style=\"font-weight: bold\"> Total params: </span><span style=\"color: #00af00; text-decoration-color: #00af00\">5,327,120</span> (20.32 MB)\n",
              "</pre>\n"
            ]
          },
          "metadata": {}
        },
        {
          "output_type": "display_data",
          "data": {
            "text/plain": [
              "\u001b[1m Trainable params: \u001b[0m\u001b[38;5;34m5,327,120\u001b[0m (20.32 MB)\n"
            ],
            "text/html": [
              "<pre style=\"white-space:pre;overflow-x:auto;line-height:normal;font-family:Menlo,'DejaVu Sans Mono',consolas,'Courier New',monospace\"><span style=\"font-weight: bold\"> Trainable params: </span><span style=\"color: #00af00; text-decoration-color: #00af00\">5,327,120</span> (20.32 MB)\n",
              "</pre>\n"
            ]
          },
          "metadata": {}
        },
        {
          "output_type": "display_data",
          "data": {
            "text/plain": [
              "\u001b[1m Non-trainable params: \u001b[0m\u001b[38;5;34m0\u001b[0m (0.00 B)\n"
            ],
            "text/html": [
              "<pre style=\"white-space:pre;overflow-x:auto;line-height:normal;font-family:Menlo,'DejaVu Sans Mono',consolas,'Courier New',monospace\"><span style=\"font-weight: bold\"> Non-trainable params: </span><span style=\"color: #00af00; text-decoration-color: #00af00\">0</span> (0.00 B)\n",
              "</pre>\n"
            ]
          },
          "metadata": {}
        }
      ]
    },
    {
      "cell_type": "code",
      "source": [
        "# ============================================================\n",
        "# 8) Training (tanpa reload, pakai restore_best_weights)\n",
        "# ============================================================\n",
        "ckpt_path = f\"{CKPT_DIR}/best_seq2seq_simplernn.keras\"\n",
        "callbacks = [\n",
        "    EarlyStopping(monitor=\"val_loss\", patience=5, restore_best_weights=True),\n",
        "    ModelCheckpoint(ckpt_path, monitor=\"val_loss\", save_best_only=True)\n",
        "]\n",
        "\n",
        "history = seq2seq.fit(\n",
        "    [X_enc_train, Y_dec_in_train], Y_target_train,\n",
        "    validation_data=([X_enc_val, Y_dec_in_val], Y_target_val),\n",
        "    epochs=30,\n",
        "    batch_size=64,   # naikkan sedikit\n",
        "    callbacks=callbacks,\n",
        "    verbose=1\n",
        ")\n",
        "\n",
        "# (TIDAK ADA) seq2seq = tf.keras.models.load_model(ckpt_path)"
      ],
      "metadata": {
        "colab": {
          "base_uri": "https://localhost:8080/"
        },
        "id": "6bVsslbfVVUg",
        "outputId": "4ac41c50-5ee4-4420-b9d6-5d234d312529"
      },
      "execution_count": 13,
      "outputs": [
        {
          "output_type": "stream",
          "name": "stdout",
          "text": [
            "Epoch 1/30\n",
            "\u001b[1m1016/1016\u001b[0m \u001b[32m━━━━━━━━━━━━━━━━━━━━\u001b[0m\u001b[37m\u001b[0m \u001b[1m1376s\u001b[0m 1s/step - loss: 2.8198 - val_loss: 2.0202\n",
            "Epoch 2/30\n",
            "\u001b[1m1016/1016\u001b[0m \u001b[32m━━━━━━━━━━━━━━━━━━━━\u001b[0m\u001b[37m\u001b[0m \u001b[1m1296s\u001b[0m 1s/step - loss: 1.9942 - val_loss: 1.9929\n",
            "Epoch 3/30\n",
            "\u001b[1m1016/1016\u001b[0m \u001b[32m━━━━━━━━━━━━━━━━━━━━\u001b[0m\u001b[37m\u001b[0m \u001b[1m1339s\u001b[0m 1s/step - loss: 1.9283 - val_loss: 1.9716\n",
            "Epoch 4/30\n",
            "\u001b[1m1016/1016\u001b[0m \u001b[32m━━━━━━━━━━━━━━━━━━━━\u001b[0m\u001b[37m\u001b[0m \u001b[1m1297s\u001b[0m 1s/step - loss: 1.8672 - val_loss: 1.9272\n",
            "Epoch 5/30\n",
            "\u001b[1m1016/1016\u001b[0m \u001b[32m━━━━━━━━━━━━━━━━━━━━\u001b[0m\u001b[37m\u001b[0m \u001b[1m1327s\u001b[0m 1s/step - loss: 1.7907 - val_loss: 1.8834\n",
            "Epoch 6/30\n",
            "\u001b[1m1016/1016\u001b[0m \u001b[32m━━━━━━━━━━━━━━━━━━━━\u001b[0m\u001b[37m\u001b[0m \u001b[1m1304s\u001b[0m 1s/step - loss: 1.7158 - val_loss: 1.8702\n",
            "Epoch 7/30\n",
            "\u001b[1m1016/1016\u001b[0m \u001b[32m━━━━━━━━━━━━━━━━━━━━\u001b[0m\u001b[37m\u001b[0m \u001b[1m1335s\u001b[0m 1s/step - loss: 1.6625 - val_loss: 1.8641\n",
            "Epoch 8/30\n",
            "\u001b[1m1016/1016\u001b[0m \u001b[32m━━━━━━━━━━━━━━━━━━━━\u001b[0m\u001b[37m\u001b[0m \u001b[1m1357s\u001b[0m 1s/step - loss: 1.6193 - val_loss: 1.8638\n",
            "Epoch 9/30\n",
            "\u001b[1m1016/1016\u001b[0m \u001b[32m━━━━━━━━━━━━━━━━━━━━\u001b[0m\u001b[37m\u001b[0m \u001b[1m1320s\u001b[0m 1s/step - loss: 1.5833 - val_loss: 1.8635\n",
            "Epoch 10/30\n",
            "\u001b[1m1016/1016\u001b[0m \u001b[32m━━━━━━━━━━━━━━━━━━━━\u001b[0m\u001b[37m\u001b[0m \u001b[1m1322s\u001b[0m 1s/step - loss: 1.5446 - val_loss: 1.8896\n",
            "Epoch 11/30\n",
            "\u001b[1m1016/1016\u001b[0m \u001b[32m━━━━━━━━━━━━━━━━━━━━\u001b[0m\u001b[37m\u001b[0m \u001b[1m1286s\u001b[0m 1s/step - loss: 1.5113 - val_loss: 1.8773\n",
            "Epoch 12/30\n",
            "\u001b[1m1016/1016\u001b[0m \u001b[32m━━━━━━━━━━━━━━━━━━━━\u001b[0m\u001b[37m\u001b[0m \u001b[1m1373s\u001b[0m 1s/step - loss: 1.4759 - val_loss: 1.8865\n",
            "Epoch 13/30\n",
            "\u001b[1m1016/1016\u001b[0m \u001b[32m━━━━━━━━━━━━━━━━━━━━\u001b[0m\u001b[37m\u001b[0m \u001b[1m1287s\u001b[0m 1s/step - loss: 1.4475 - val_loss: 1.8869\n",
            "Epoch 14/30\n",
            "\u001b[1m1016/1016\u001b[0m \u001b[32m━━━━━━━━━━━━━━━━━━━━\u001b[0m\u001b[37m\u001b[0m \u001b[1m1349s\u001b[0m 1s/step - loss: 1.4221 - val_loss: 1.8945\n"
          ]
        }
      ]
    },
    {
      "cell_type": "code",
      "source": [
        "# ============================================================\n",
        "# 9) Simpan artefak\n",
        "# ============================================================\n",
        "with open(f\"{ARTIFACT_DIR}/src_tokenizer.pkl\", \"wb\") as f:\n",
        "    pickle.dump(src_tok, f)\n",
        "with open(f\"{ARTIFACT_DIR}/tgt_tokenizer.pkl\", \"wb\") as f:\n",
        "    pickle.dump(tgt_tok, f)\n",
        "\n",
        "meta = dict(\n",
        "    MAX_LEN_SRC=MAX_LEN_SRC,\n",
        "    MAX_LEN_TGT=MAX_LEN_TGT,\n",
        "    SOS_TOKEN=SOS_TOKEN,\n",
        "    EOS_TOKEN=EOS_TOKEN,\n",
        "    vocab_size_src=vocab_size_src,\n",
        "    vocab_size_tgt=vocab_size_tgt,\n",
        "    RNN_UNITS=RNN_UNITS,\n",
        "    EMB_DIM=EMB_DIM\n",
        ")\n",
        "with open(f\"{ARTIFACT_DIR}/meta.json\", \"w\") as f:\n",
        "    json.dump(meta, f, indent=2)\n",
        "\n",
        "seq2seq.save(f\"{ARTIFACT_DIR}/seq2seq_simplernn.keras\")\n",
        "print(\"Saved artifacts to:\", ARTIFACT_DIR)"
      ],
      "metadata": {
        "colab": {
          "base_uri": "https://localhost:8080/"
        },
        "id": "FaegYFfmVX2_",
        "outputId": "e0ebeb04-2596-452d-e5a4-638346a15c61"
      },
      "execution_count": 14,
      "outputs": [
        {
          "output_type": "stream",
          "name": "stdout",
          "text": [
            "Saved artifacts to: /content/artifacts_seq2seq\n"
          ]
        }
      ]
    },
    {
      "cell_type": "code",
      "source": [
        "# ============================================================\n",
        "# 10) Inference (OPSIONAL - Opsi B) — bangun encoder dari layer di dalam seq2seq yang SUDAH di-load\n",
        "# PAKAI INI JIKA kamu melakukan: seq2seq = tf.keras.models.load_model(ckpt_path)\n",
        "# ============================================================\n",
        "from tensorflow.keras.layers import Reshape, Input\n",
        "\n",
        "# Ambil layer dari seq2seq yang sudah di-load\n",
        "enc_emb_layer = seq2seq.get_layer(\"enc_emb\")\n",
        "enc_rnn_layer = seq2seq.get_layer(\"enc_rnn\")\n",
        "dec_emb_layer = seq2seq.get_layer(\"dec_emb\")\n",
        "dec_rnn_layer = seq2seq.get_layer(\"dec_rnn\")\n",
        "dec_out_layer = seq2seq.get_layer(\"dec_out\")\n",
        "\n",
        "# Encoder inference (input → state)\n",
        "enc_inputs_inf = Input(shape=(MAX_LEN_SRC,), name=\"enc_inputs_inf\")\n",
        "enc_x = enc_emb_layer(enc_inputs_inf)\n",
        "_, enc_state_inf = enc_rnn_layer(enc_x)\n",
        "encoder_model = Model(enc_inputs_inf, enc_state_inf)\n",
        "\n",
        "# Decoder 1-step (copy bobot dari dec_rnn_layer)\n",
        "RNN_UNITS = dec_rnn_layer.units  # pastikan konsisten\n",
        "dec_state_in = Input(shape=(RNN_UNITS,), name=\"dec_state_in\")\n",
        "dec_inp_step = Input(shape=(1,), name=\"dec_inp_step\")\n",
        "\n",
        "dec_rnn_step = SimpleRNN(RNN_UNITS, return_state=True, name=\"dec_rnn_step\")\n",
        "dec_rnn_step.build((None, 1, dec_emb_layer.output_dim))\n",
        "dec_rnn_step.set_weights(dec_rnn_layer.get_weights())\n",
        "\n",
        "dec_x = dec_emb_layer(dec_inp_step)\n",
        "dec_y, dec_state_out = dec_rnn_step(dec_x, initial_state=dec_state_in)\n",
        "dec_y_time = Reshape((1, RNN_UNITS))(dec_y)\n",
        "dec_logits_step = dec_out_layer(dec_y_time)\n",
        "\n",
        "decoder_model = Model([dec_inp_step, dec_state_in], [dec_logits_step, dec_state_out])\n",
        "\n",
        "# 10.4 Greedy decoder (stop juga bila memprediksi <sos>)\n",
        "SOS_TOKEN = \"<sos>\"\n",
        "EOS_TOKEN = \"<eos>\"\n",
        "SOS_ID = tgt_tok.word_index.get(SOS_TOKEN, None)\n",
        "EOS_ID = tgt_tok.word_index.get(EOS_TOKEN, None)\n",
        "if SOS_ID is None or EOS_ID is None:\n",
        "    raise ValueError(\"Token <sos>/<eos> tidak ada di tokenizer target. Cek preprocessing.\")\n",
        "\n",
        "index2word_tgt = tgt_tok.index_word\n",
        "\n",
        "def greedy_decode(input_text: str, max_len=None):\n",
        "    if max_len is None:\n",
        "        max_len = MAX_LEN_TGT\n",
        "\n",
        "    x = src_tok.texts_to_sequences([clean_text(input_text)])\n",
        "    x = pad_sequences(x, maxlen=MAX_LEN_SRC, padding=\"post\", truncating=\"post\")\n",
        "    state = encoder_model.predict(x, verbose=0)\n",
        "\n",
        "    cur_token = np.array([[SOS_ID]], dtype=\"int32\")\n",
        "    result_ids = []\n",
        "\n",
        "    for _ in range(max_len):\n",
        "        logits, state = decoder_model.predict([cur_token, state], verbose=0)\n",
        "        next_id = int(np.argmax(logits[0, 0, :]))\n",
        "\n",
        "        if next_id in (0, EOS_ID, SOS_ID):  # <- tambahan SOS_ID guard\n",
        "            break\n",
        "\n",
        "        result_ids.append(next_id)\n",
        "        cur_token = np.array([[next_id]], dtype=\"int32\")\n",
        "\n",
        "    words = [index2word_tgt.get(idx, \"<unk>\") for idx in result_ids]\n",
        "    return \" \".join(words).strip()"
      ],
      "metadata": {
        "id": "JLFORklGVdG6"
      },
      "execution_count": 15,
      "outputs": []
    },
    {
      "cell_type": "code",
      "source": [
        "# ============================================================\n",
        "# 11) Evaluasi (Exact Match & BLEU) — target bersih sederhana\n",
        "# ============================================================\n",
        "from nltk.translate.bleu_score import sentence_bleu, SmoothingFunction\n",
        "smooth = SmoothingFunction().method1\n",
        "\n",
        "def evaluate(dataset_pairs, n_samples_eval=200):\n",
        "    refs, hyps = [], []\n",
        "    subset = random.sample(dataset_pairs, k=min(n_samples_eval, len(dataset_pairs)))\n",
        "    for src, tgt in subset:\n",
        "        hyp = greedy_decode(src)\n",
        "        refs.append([tgt.split()])\n",
        "        hyps.append(hyp.split())\n",
        "\n",
        "    exact = sum(1 for r, h in zip(refs, hyps) if \" \".join(r[0]) == \" \".join(h))\n",
        "    exact_acc = exact / len(subset)\n",
        "\n",
        "    bleu1 = np.mean([sentence_bleu(r, h, weights=(1,0,0,0), smoothing_function=smooth) for r,h in zip(refs, hyps)])\n",
        "    bleu2 = np.mean([sentence_bleu(r, h, weights=(0.5,0.5,0,0), smoothing_function=smooth) for r,h in zip(refs, hyps)])\n",
        "    bleu4 = np.mean([sentence_bleu(r, h, weights=(0.25,0.25,0.25,0.25), smoothing_function=smooth) for r,h in zip(refs, hyps)])\n",
        "\n",
        "    return dict(exact_match=exact_acc, bleu1=bleu1, bleu2=bleu2, bleu4=bleu4)\n",
        "\n",
        "# target evaluasi pakai pasangan asli (tanpa <sos>/<eos>)\n",
        "pairs_clean_tgt = [(src, tgt) for (src, tgt) in pairs]\n",
        "metrics = evaluate(pairs_clean_tgt, n_samples_eval=200)\n",
        "print(\"Eval (subset):\", metrics)"
      ],
      "metadata": {
        "colab": {
          "base_uri": "https://localhost:8080/"
        },
        "id": "6ZNLktikVekh",
        "outputId": "b2f01d2e-c0d7-4af7-e21c-12b7d870a499"
      },
      "execution_count": 16,
      "outputs": [
        {
          "output_type": "stream",
          "name": "stdout",
          "text": [
            "Eval (subset): {'exact_match': 0.0, 'bleu1': np.float64(0.0), 'bleu2': np.float64(0.0), 'bleu4': np.float64(0.0)}\n"
          ]
        }
      ]
    },
    {
      "cell_type": "code",
      "source": [
        "# ============================================================\n",
        "# 12) Demo cepat\n",
        "# ============================================================\n",
        "tests = [\n",
        "    \"kapan beyonce mulai terkenal?\",\n",
        "    \"siapa manajer destiny's child?\",\n",
        "    \"apa album solo pertama beyonce?\",\n",
        "    \"siapa suami beyonce?\",\n",
        "]\n",
        "for q in tests:\n",
        "    ans = greedy_decode(q)\n",
        "    print(f\"Q: {q}\\nA: {ans}\\n\")"
      ],
      "metadata": {
        "colab": {
          "base_uri": "https://localhost:8080/"
        },
        "id": "ybNNh4WUViwK",
        "outputId": "696b8423-dea9-4844-9075-588fc22d76fb"
      },
      "execution_count": 17,
      "outputs": [
        {
          "output_type": "stream",
          "name": "stdout",
          "text": [
            "Q: kapan beyonce mulai terkenal?\n",
            "A: <oov>\n",
            "\n",
            "Q: siapa manajer destiny's child?\n",
            "A: <oov>\n",
            "\n",
            "Q: apa album solo pertama beyonce?\n",
            "A: <oov>\n",
            "\n",
            "Q: siapa suami beyonce?\n",
            "A: <oov>\n",
            "\n"
          ]
        }
      ]
    },
    {
      "cell_type": "code",
      "source": [
        "# ================================\n",
        "# UI Chat Box (Seq2Seq - ipywidgets)\n",
        "# ================================\n",
        "\n",
        "# 1) Pastikan widget manager aktif\n",
        "try:\n",
        "    from google.colab import output as colab_output\n",
        "    colab_output.enable_custom_widget_manager()\n",
        "except Exception:\n",
        "    pass\n",
        "\n",
        "try:\n",
        "    import ipywidgets as widgets\n",
        "    from IPython.display import display, HTML, clear_output\n",
        "except Exception:\n",
        "    !pip -q install ipywidgets==8.1.1\n",
        "    import ipywidgets as widgets\n",
        "    from IPython.display import display, HTML, clear_output\n",
        "    from google.colab import output as colab_output\n",
        "    colab_output.enable_custom_widget_manager()\n",
        "\n",
        "# 2) Komponen UI\n",
        "input_box = widgets.Text(\n",
        "    placeholder='Ketik pertanyaanmu di sini...',\n",
        "    description='User:',\n",
        "    layout=widgets.Layout(width='100%')\n",
        ")\n",
        "send_btn = widgets.Button(\n",
        "    description='Kirim',\n",
        "    button_style='primary',\n",
        "    tooltip='Kirim pesan',\n",
        "    layout=widgets.Layout(width='120px')\n",
        ")\n",
        "clear_btn = widgets.Button(\n",
        "    description='Bersihkan',\n",
        "    tooltip='Hapus riwayat',\n",
        "    layout=widgets.Layout(width='120px')\n",
        ")\n",
        "status_lbl = widgets.Label(value='Siap ✅')\n",
        "\n",
        "chat_output = widgets.Output(layout=widgets.Layout(\n",
        "    border='1px solid #ddd', padding='10px', height='350px', overflow='auto'\n",
        "))\n",
        "\n",
        "controls = widgets.HBox([send_btn, clear_btn, status_lbl])\n",
        "ui = widgets.VBox([input_box, controls, chat_output])\n",
        "\n",
        "# 3) State riwayat percakapan (tanpa intent/conf)\n",
        "history = []  # list of (role, text)\n",
        "\n",
        "def render_history():\n",
        "    with chat_output:\n",
        "        clear_output()\n",
        "        html = ['<div style=\"font-family: Inter, system-ui, Arial; font-size:14px\">']\n",
        "        for role, text in history:\n",
        "            if role == 'user':\n",
        "                html.append(f'''\n",
        "                <div style=\"margin:8px 0;\">\n",
        "                    <div style=\"font-weight:600;color:#1a73e8\">Kamu:</div>\n",
        "                    <div style=\"white-space:pre-wrap\">{text}</div>\n",
        "                </div>''')\n",
        "            else:\n",
        "                html.append(f'''\n",
        "                <div style=\"margin:8px 0;\">\n",
        "                    <div style=\"font-weight:600;color:#34a853\">Bot:</div>\n",
        "                    <div style=\"white-space:pre-wrap\">{text}</div>\n",
        "                </div>''')\n",
        "        html.append('</div>')\n",
        "        display(HTML(''.join(html)))\n",
        "\n",
        "# 4) Handler kirim (pakai greedy_decode dari model Seq2Seq)\n",
        "def handle_send(_=None):\n",
        "    msg = input_box.value.strip()\n",
        "    if not msg:\n",
        "        status_lbl.value = \"Ketik sesuatu dulu…\"\n",
        "        return\n",
        "    status_lbl.value = \"Memproses… ⏳\"\n",
        "    history.append(('user', msg))\n",
        "    try:\n",
        "        ans = greedy_decode(msg)  # <— PENTING: pakai seq2seq\n",
        "        if not ans:\n",
        "            ans = \"(maaf, belum bisa menjawab)\"\n",
        "        history.append(('bot', ans))\n",
        "    except Exception as e:\n",
        "        history.append(('bot', f\"Terjadi error: {e}\"))\n",
        "    render_history()\n",
        "    input_box.value = ''\n",
        "    status_lbl.value = \"Siap ✅\"\n",
        "\n",
        "# 5) Handler clear\n",
        "def handle_clear(_=None):\n",
        "    history.clear()\n",
        "    render_history()\n",
        "    status_lbl.value = \"Riwayat dibersihkan 🧹\"\n",
        "\n",
        "# 6) Event bindings\n",
        "send_btn.on_click(handle_send)\n",
        "clear_btn.on_click(handle_clear)\n",
        "input_box.on_submit(handle_send)  # tekan Enter untuk kirim\n",
        "\n",
        "# 7) Tampilkan UI\n",
        "render_history()\n",
        "display(ui)"
      ],
      "metadata": {
        "colab": {
          "base_uri": "https://localhost:8080/",
          "height": 463,
          "referenced_widgets": [
            "1f5c99f012774e1f89800b2b0f50a8d9",
            "c8c478338122447dba294df889b96428",
            "eb99077d1a7149e582e6ae13965525c4",
            "0d56375638114a7f9873e893ff25b9b9",
            "d7e2f17f255b498a8b6fe140b3433d1f",
            "44d0eb0fe87140a18bcf7bc4bac97417",
            "87d8486cfb9d491e843e272d630e4a76",
            "f5f6692e8db94bbeb1d5c3eeae19a49f",
            "8b41525a962c47a3a4eb3ba2a9f4be05",
            "fb7d50f99b94402a9186b71a6daaf9cc",
            "d1aebc2b45154cb79bc7a9ab2f1ca316",
            "da2b7ecf9ff14fdfaeb289a8c6ee620a",
            "636eefc7971a4780b101a5362261edb3",
            "5aa8d95733aa47fd894e685c50cd297a",
            "ec93add2b3e648e7956ee85012182a38",
            "6481015d45fd472ebe0d963146675a9b",
            "9cd8463f82f044a78b4151b31696d0e8",
            "5681e65d316f45449c2b39454011462d"
          ]
        },
        "id": "emmtvsJTVmkn",
        "outputId": "78099f16-c3ba-4f14-a054-502a2b2896f9"
      },
      "execution_count": 18,
      "outputs": [
        {
          "output_type": "display_data",
          "data": {
            "text/plain": [
              "VBox(children=(Text(value='', description='User:', layout=Layout(width='100%'), placeholder='Ketik pertanyaanm…"
            ],
            "application/vnd.jupyter.widget-view+json": {
              "version_major": 2,
              "version_minor": 0,
              "model_id": "1f5c99f012774e1f89800b2b0f50a8d9"
            }
          },
          "metadata": {
            "application/vnd.jupyter.widget-view+json": {
              "colab": {
                "custom_widget_manager": {
                  "url": "https://ssl.gstatic.com/colaboratory-static/widgets/colab-cdn-widget-manager/2b70e893a8ba7c0f/manager.min.js"
                }
              }
            }
          }
        }
      ]
    }
  ],
  "metadata": {
    "colab": {
      "provenance": []
    },
    "kernelspec": {
      "display_name": "Python 3",
      "name": "python3"
    },
    "language_info": {
      "name": "python"
    },
    "widgets": {
      "application/vnd.jupyter.widget-state+json": {
        "1f5c99f012774e1f89800b2b0f50a8d9": {
          "model_module": "@jupyter-widgets/controls",
          "model_name": "VBoxModel",
          "model_module_version": "1.5.0",
          "state": {
            "_dom_classes": [],
            "_model_module": "@jupyter-widgets/controls",
            "_model_module_version": "1.5.0",
            "_model_name": "VBoxModel",
            "_view_count": null,
            "_view_module": "@jupyter-widgets/controls",
            "_view_module_version": "1.5.0",
            "_view_name": "VBoxView",
            "box_style": "",
            "children": [
              "IPY_MODEL_c8c478338122447dba294df889b96428",
              "IPY_MODEL_eb99077d1a7149e582e6ae13965525c4",
              "IPY_MODEL_0d56375638114a7f9873e893ff25b9b9"
            ],
            "layout": "IPY_MODEL_d7e2f17f255b498a8b6fe140b3433d1f"
          }
        },
        "c8c478338122447dba294df889b96428": {
          "model_module": "@jupyter-widgets/controls",
          "model_name": "TextModel",
          "model_module_version": "1.5.0",
          "state": {
            "_dom_classes": [],
            "_model_module": "@jupyter-widgets/controls",
            "_model_module_version": "1.5.0",
            "_model_name": "TextModel",
            "_view_count": null,
            "_view_module": "@jupyter-widgets/controls",
            "_view_module_version": "1.5.0",
            "_view_name": "TextView",
            "continuous_update": true,
            "description": "User:",
            "description_tooltip": null,
            "disabled": false,
            "layout": "IPY_MODEL_44d0eb0fe87140a18bcf7bc4bac97417",
            "placeholder": "Ketik pertanyaanmu di sini...",
            "style": "IPY_MODEL_87d8486cfb9d491e843e272d630e4a76",
            "value": ""
          }
        },
        "eb99077d1a7149e582e6ae13965525c4": {
          "model_module": "@jupyter-widgets/controls",
          "model_name": "HBoxModel",
          "model_module_version": "1.5.0",
          "state": {
            "_dom_classes": [],
            "_model_module": "@jupyter-widgets/controls",
            "_model_module_version": "1.5.0",
            "_model_name": "HBoxModel",
            "_view_count": null,
            "_view_module": "@jupyter-widgets/controls",
            "_view_module_version": "1.5.0",
            "_view_name": "HBoxView",
            "box_style": "",
            "children": [
              "IPY_MODEL_f5f6692e8db94bbeb1d5c3eeae19a49f",
              "IPY_MODEL_8b41525a962c47a3a4eb3ba2a9f4be05",
              "IPY_MODEL_fb7d50f99b94402a9186b71a6daaf9cc"
            ],
            "layout": "IPY_MODEL_d1aebc2b45154cb79bc7a9ab2f1ca316"
          }
        },
        "0d56375638114a7f9873e893ff25b9b9": {
          "model_module": "@jupyter-widgets/output",
          "model_name": "OutputModel",
          "model_module_version": "1.0.0",
          "state": {
            "_dom_classes": [],
            "_model_module": "@jupyter-widgets/output",
            "_model_module_version": "1.0.0",
            "_model_name": "OutputModel",
            "_view_count": null,
            "_view_module": "@jupyter-widgets/output",
            "_view_module_version": "1.0.0",
            "_view_name": "OutputView",
            "layout": "IPY_MODEL_da2b7ecf9ff14fdfaeb289a8c6ee620a",
            "msg_id": "",
            "outputs": [
              {
                "output_type": "display_data",
                "data": {
                  "text/plain": "<IPython.core.display.HTML object>",
                  "text/html": "<div style=\"font-family: Inter, system-ui, Arial; font-size:14px\">\n                <div style=\"margin:8px 0;\">\n                    <div style=\"font-weight:600;color:#1a73e8\">Kamu:</div>\n                    <div style=\"white-space:pre-wrap\">halo</div>\n                </div>\n                <div style=\"margin:8px 0;\">\n                    <div style=\"font-weight:600;color:#34a853\">Bot:</div>\n                    <div style=\"white-space:pre-wrap\"><oov></div>\n                </div></div>"
                },
                "metadata": {}
              }
            ]
          }
        },
        "d7e2f17f255b498a8b6fe140b3433d1f": {
          "model_module": "@jupyter-widgets/base",
          "model_name": "LayoutModel",
          "model_module_version": "1.2.0",
          "state": {
            "_model_module": "@jupyter-widgets/base",
            "_model_module_version": "1.2.0",
            "_model_name": "LayoutModel",
            "_view_count": null,
            "_view_module": "@jupyter-widgets/base",
            "_view_module_version": "1.2.0",
            "_view_name": "LayoutView",
            "align_content": null,
            "align_items": null,
            "align_self": null,
            "border": null,
            "bottom": null,
            "display": null,
            "flex": null,
            "flex_flow": null,
            "grid_area": null,
            "grid_auto_columns": null,
            "grid_auto_flow": null,
            "grid_auto_rows": null,
            "grid_column": null,
            "grid_gap": null,
            "grid_row": null,
            "grid_template_areas": null,
            "grid_template_columns": null,
            "grid_template_rows": null,
            "height": null,
            "justify_content": null,
            "justify_items": null,
            "left": null,
            "margin": null,
            "max_height": null,
            "max_width": null,
            "min_height": null,
            "min_width": null,
            "object_fit": null,
            "object_position": null,
            "order": null,
            "overflow": null,
            "overflow_x": null,
            "overflow_y": null,
            "padding": null,
            "right": null,
            "top": null,
            "visibility": null,
            "width": null
          }
        },
        "44d0eb0fe87140a18bcf7bc4bac97417": {
          "model_module": "@jupyter-widgets/base",
          "model_name": "LayoutModel",
          "model_module_version": "1.2.0",
          "state": {
            "_model_module": "@jupyter-widgets/base",
            "_model_module_version": "1.2.0",
            "_model_name": "LayoutModel",
            "_view_count": null,
            "_view_module": "@jupyter-widgets/base",
            "_view_module_version": "1.2.0",
            "_view_name": "LayoutView",
            "align_content": null,
            "align_items": null,
            "align_self": null,
            "border": null,
            "bottom": null,
            "display": null,
            "flex": null,
            "flex_flow": null,
            "grid_area": null,
            "grid_auto_columns": null,
            "grid_auto_flow": null,
            "grid_auto_rows": null,
            "grid_column": null,
            "grid_gap": null,
            "grid_row": null,
            "grid_template_areas": null,
            "grid_template_columns": null,
            "grid_template_rows": null,
            "height": null,
            "justify_content": null,
            "justify_items": null,
            "left": null,
            "margin": null,
            "max_height": null,
            "max_width": null,
            "min_height": null,
            "min_width": null,
            "object_fit": null,
            "object_position": null,
            "order": null,
            "overflow": null,
            "overflow_x": null,
            "overflow_y": null,
            "padding": null,
            "right": null,
            "top": null,
            "visibility": null,
            "width": "100%"
          }
        },
        "87d8486cfb9d491e843e272d630e4a76": {
          "model_module": "@jupyter-widgets/controls",
          "model_name": "DescriptionStyleModel",
          "model_module_version": "1.5.0",
          "state": {
            "_model_module": "@jupyter-widgets/controls",
            "_model_module_version": "1.5.0",
            "_model_name": "DescriptionStyleModel",
            "_view_count": null,
            "_view_module": "@jupyter-widgets/base",
            "_view_module_version": "1.2.0",
            "_view_name": "StyleView",
            "description_width": ""
          }
        },
        "f5f6692e8db94bbeb1d5c3eeae19a49f": {
          "model_module": "@jupyter-widgets/controls",
          "model_name": "ButtonModel",
          "model_module_version": "1.5.0",
          "state": {
            "_dom_classes": [],
            "_model_module": "@jupyter-widgets/controls",
            "_model_module_version": "1.5.0",
            "_model_name": "ButtonModel",
            "_view_count": null,
            "_view_module": "@jupyter-widgets/controls",
            "_view_module_version": "1.5.0",
            "_view_name": "ButtonView",
            "button_style": "primary",
            "description": "Kirim",
            "disabled": false,
            "icon": "",
            "layout": "IPY_MODEL_636eefc7971a4780b101a5362261edb3",
            "style": "IPY_MODEL_5aa8d95733aa47fd894e685c50cd297a",
            "tooltip": "Kirim pesan"
          }
        },
        "8b41525a962c47a3a4eb3ba2a9f4be05": {
          "model_module": "@jupyter-widgets/controls",
          "model_name": "ButtonModel",
          "model_module_version": "1.5.0",
          "state": {
            "_dom_classes": [],
            "_model_module": "@jupyter-widgets/controls",
            "_model_module_version": "1.5.0",
            "_model_name": "ButtonModel",
            "_view_count": null,
            "_view_module": "@jupyter-widgets/controls",
            "_view_module_version": "1.5.0",
            "_view_name": "ButtonView",
            "button_style": "",
            "description": "Bersihkan",
            "disabled": false,
            "icon": "",
            "layout": "IPY_MODEL_ec93add2b3e648e7956ee85012182a38",
            "style": "IPY_MODEL_6481015d45fd472ebe0d963146675a9b",
            "tooltip": "Hapus riwayat"
          }
        },
        "fb7d50f99b94402a9186b71a6daaf9cc": {
          "model_module": "@jupyter-widgets/controls",
          "model_name": "LabelModel",
          "model_module_version": "1.5.0",
          "state": {
            "_dom_classes": [],
            "_model_module": "@jupyter-widgets/controls",
            "_model_module_version": "1.5.0",
            "_model_name": "LabelModel",
            "_view_count": null,
            "_view_module": "@jupyter-widgets/controls",
            "_view_module_version": "1.5.0",
            "_view_name": "LabelView",
            "description": "",
            "description_tooltip": null,
            "layout": "IPY_MODEL_9cd8463f82f044a78b4151b31696d0e8",
            "placeholder": "​",
            "style": "IPY_MODEL_5681e65d316f45449c2b39454011462d",
            "value": "Siap ✅"
          }
        },
        "d1aebc2b45154cb79bc7a9ab2f1ca316": {
          "model_module": "@jupyter-widgets/base",
          "model_name": "LayoutModel",
          "model_module_version": "1.2.0",
          "state": {
            "_model_module": "@jupyter-widgets/base",
            "_model_module_version": "1.2.0",
            "_model_name": "LayoutModel",
            "_view_count": null,
            "_view_module": "@jupyter-widgets/base",
            "_view_module_version": "1.2.0",
            "_view_name": "LayoutView",
            "align_content": null,
            "align_items": null,
            "align_self": null,
            "border": null,
            "bottom": null,
            "display": null,
            "flex": null,
            "flex_flow": null,
            "grid_area": null,
            "grid_auto_columns": null,
            "grid_auto_flow": null,
            "grid_auto_rows": null,
            "grid_column": null,
            "grid_gap": null,
            "grid_row": null,
            "grid_template_areas": null,
            "grid_template_columns": null,
            "grid_template_rows": null,
            "height": null,
            "justify_content": null,
            "justify_items": null,
            "left": null,
            "margin": null,
            "max_height": null,
            "max_width": null,
            "min_height": null,
            "min_width": null,
            "object_fit": null,
            "object_position": null,
            "order": null,
            "overflow": null,
            "overflow_x": null,
            "overflow_y": null,
            "padding": null,
            "right": null,
            "top": null,
            "visibility": null,
            "width": null
          }
        },
        "da2b7ecf9ff14fdfaeb289a8c6ee620a": {
          "model_module": "@jupyter-widgets/base",
          "model_name": "LayoutModel",
          "model_module_version": "1.2.0",
          "state": {
            "_model_module": "@jupyter-widgets/base",
            "_model_module_version": "1.2.0",
            "_model_name": "LayoutModel",
            "_view_count": null,
            "_view_module": "@jupyter-widgets/base",
            "_view_module_version": "1.2.0",
            "_view_name": "LayoutView",
            "align_content": null,
            "align_items": null,
            "align_self": null,
            "border": "1px solid #ddd",
            "bottom": null,
            "display": null,
            "flex": null,
            "flex_flow": null,
            "grid_area": null,
            "grid_auto_columns": null,
            "grid_auto_flow": null,
            "grid_auto_rows": null,
            "grid_column": null,
            "grid_gap": null,
            "grid_row": null,
            "grid_template_areas": null,
            "grid_template_columns": null,
            "grid_template_rows": null,
            "height": "350px",
            "justify_content": null,
            "justify_items": null,
            "left": null,
            "margin": null,
            "max_height": null,
            "max_width": null,
            "min_height": null,
            "min_width": null,
            "object_fit": null,
            "object_position": null,
            "order": null,
            "overflow": "auto",
            "overflow_x": null,
            "overflow_y": null,
            "padding": "10px",
            "right": null,
            "top": null,
            "visibility": null,
            "width": null
          }
        },
        "636eefc7971a4780b101a5362261edb3": {
          "model_module": "@jupyter-widgets/base",
          "model_name": "LayoutModel",
          "model_module_version": "1.2.0",
          "state": {
            "_model_module": "@jupyter-widgets/base",
            "_model_module_version": "1.2.0",
            "_model_name": "LayoutModel",
            "_view_count": null,
            "_view_module": "@jupyter-widgets/base",
            "_view_module_version": "1.2.0",
            "_view_name": "LayoutView",
            "align_content": null,
            "align_items": null,
            "align_self": null,
            "border": null,
            "bottom": null,
            "display": null,
            "flex": null,
            "flex_flow": null,
            "grid_area": null,
            "grid_auto_columns": null,
            "grid_auto_flow": null,
            "grid_auto_rows": null,
            "grid_column": null,
            "grid_gap": null,
            "grid_row": null,
            "grid_template_areas": null,
            "grid_template_columns": null,
            "grid_template_rows": null,
            "height": null,
            "justify_content": null,
            "justify_items": null,
            "left": null,
            "margin": null,
            "max_height": null,
            "max_width": null,
            "min_height": null,
            "min_width": null,
            "object_fit": null,
            "object_position": null,
            "order": null,
            "overflow": null,
            "overflow_x": null,
            "overflow_y": null,
            "padding": null,
            "right": null,
            "top": null,
            "visibility": null,
            "width": "120px"
          }
        },
        "5aa8d95733aa47fd894e685c50cd297a": {
          "model_module": "@jupyter-widgets/controls",
          "model_name": "ButtonStyleModel",
          "model_module_version": "1.5.0",
          "state": {
            "_model_module": "@jupyter-widgets/controls",
            "_model_module_version": "1.5.0",
            "_model_name": "ButtonStyleModel",
            "_view_count": null,
            "_view_module": "@jupyter-widgets/base",
            "_view_module_version": "1.2.0",
            "_view_name": "StyleView",
            "button_color": null,
            "font_weight": ""
          }
        },
        "ec93add2b3e648e7956ee85012182a38": {
          "model_module": "@jupyter-widgets/base",
          "model_name": "LayoutModel",
          "model_module_version": "1.2.0",
          "state": {
            "_model_module": "@jupyter-widgets/base",
            "_model_module_version": "1.2.0",
            "_model_name": "LayoutModel",
            "_view_count": null,
            "_view_module": "@jupyter-widgets/base",
            "_view_module_version": "1.2.0",
            "_view_name": "LayoutView",
            "align_content": null,
            "align_items": null,
            "align_self": null,
            "border": null,
            "bottom": null,
            "display": null,
            "flex": null,
            "flex_flow": null,
            "grid_area": null,
            "grid_auto_columns": null,
            "grid_auto_flow": null,
            "grid_auto_rows": null,
            "grid_column": null,
            "grid_gap": null,
            "grid_row": null,
            "grid_template_areas": null,
            "grid_template_columns": null,
            "grid_template_rows": null,
            "height": null,
            "justify_content": null,
            "justify_items": null,
            "left": null,
            "margin": null,
            "max_height": null,
            "max_width": null,
            "min_height": null,
            "min_width": null,
            "object_fit": null,
            "object_position": null,
            "order": null,
            "overflow": null,
            "overflow_x": null,
            "overflow_y": null,
            "padding": null,
            "right": null,
            "top": null,
            "visibility": null,
            "width": "120px"
          }
        },
        "6481015d45fd472ebe0d963146675a9b": {
          "model_module": "@jupyter-widgets/controls",
          "model_name": "ButtonStyleModel",
          "model_module_version": "1.5.0",
          "state": {
            "_model_module": "@jupyter-widgets/controls",
            "_model_module_version": "1.5.0",
            "_model_name": "ButtonStyleModel",
            "_view_count": null,
            "_view_module": "@jupyter-widgets/base",
            "_view_module_version": "1.2.0",
            "_view_name": "StyleView",
            "button_color": null,
            "font_weight": ""
          }
        },
        "9cd8463f82f044a78b4151b31696d0e8": {
          "model_module": "@jupyter-widgets/base",
          "model_name": "LayoutModel",
          "model_module_version": "1.2.0",
          "state": {
            "_model_module": "@jupyter-widgets/base",
            "_model_module_version": "1.2.0",
            "_model_name": "LayoutModel",
            "_view_count": null,
            "_view_module": "@jupyter-widgets/base",
            "_view_module_version": "1.2.0",
            "_view_name": "LayoutView",
            "align_content": null,
            "align_items": null,
            "align_self": null,
            "border": null,
            "bottom": null,
            "display": null,
            "flex": null,
            "flex_flow": null,
            "grid_area": null,
            "grid_auto_columns": null,
            "grid_auto_flow": null,
            "grid_auto_rows": null,
            "grid_column": null,
            "grid_gap": null,
            "grid_row": null,
            "grid_template_areas": null,
            "grid_template_columns": null,
            "grid_template_rows": null,
            "height": null,
            "justify_content": null,
            "justify_items": null,
            "left": null,
            "margin": null,
            "max_height": null,
            "max_width": null,
            "min_height": null,
            "min_width": null,
            "object_fit": null,
            "object_position": null,
            "order": null,
            "overflow": null,
            "overflow_x": null,
            "overflow_y": null,
            "padding": null,
            "right": null,
            "top": null,
            "visibility": null,
            "width": null
          }
        },
        "5681e65d316f45449c2b39454011462d": {
          "model_module": "@jupyter-widgets/controls",
          "model_name": "DescriptionStyleModel",
          "model_module_version": "1.5.0",
          "state": {
            "_model_module": "@jupyter-widgets/controls",
            "_model_module_version": "1.5.0",
            "_model_name": "DescriptionStyleModel",
            "_view_count": null,
            "_view_module": "@jupyter-widgets/base",
            "_view_module_version": "1.2.0",
            "_view_name": "StyleView",
            "description_width": ""
          }
        }
      }
    }
  },
  "nbformat": 4,
  "nbformat_minor": 0
}